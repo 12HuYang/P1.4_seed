{
 "cells": [
  {
   "cell_type": "markdown",
   "metadata": {
    "ein.tags": [
     "worksheet-0"
    ],
    "slideshow": {
     "slide_type": "-"
    }
   },
   "source": [
    "# Nonlinear Equations\n",
    "\n",
    "We want to find a root of the nonlinear function $f$ using different methods.\n",
    "\n",
    "1. Bisection method\n",
    "2. Newton method\n",
    "3. Chord method\n",
    "4. Secant method\n",
    "5. Fixed point iterations\n",
    "\n",
    "\n",
    "\n"
   ]
  },
  {
   "cell_type": "code",
   "execution_count": null,
   "metadata": {
    "collapsed": true
   },
   "outputs": [],
   "source": [
    "%matplotlib inline\n",
    "from numpy import *\n",
    "from matplotlib.pyplot import *\n",
    "import sympy as sym\n"
   ]
  },
  {
   "cell_type": "code",
   "execution_count": null,
   "metadata": {
    "autoscroll": "json-false",
    "collapsed": false,
    "ein.tags": [
     "worksheet-0"
    ],
    "slideshow": {
     "slide_type": "-"
    }
   },
   "outputs": [],
   "source": [
    "t = sym.symbols('t')\n",
    "\n",
    "f_sym = t/8. * (63.*t**4 - 70.*t**2. +15.) # Legendre polynomial of order 5\n",
    "\n",
    "f_prime_sym = sym.diff(f_sym,t)\n",
    "\n",
    "f = sym.lambdify(t, f_sym, 'numpy')\n",
    "f_prime = sym.lambdify(t,f_prime_sym, 'numpy')\n",
    "\n",
    "phi = lambda x : 63./70.*x**3 + 15./(70.*x)\n",
    "#phi = lambda x : 70.0/15.0*x**3 - 63.0/15.0*x**5\n",
    "#phi = lambda x : sqrt((63.*x**4 + 15.0)/70.)\n",
    "\n",
    "# Let's plot\n",
    "n = 1025\n",
    "\n",
    "x = linspace(-1,1,n)\n",
    "c = zeros_like(x)\n",
    "\n",
    "_ = plot(x,f(x))\n",
    "_ = plot(x,c)\n",
    "_ = grid()\n"
   ]
  },
  {
   "cell_type": "code",
   "execution_count": null,
   "metadata": {
    "collapsed": true
   },
   "outputs": [],
   "source": [
    "# Initial data for the variuos algorithms\n",
    "\n",
    "# interval in which we seek the solution \n",
    "a = 0.2\n",
    "b = 0.7\n",
    "\n",
    "# initial points\n",
    "x0 = (a+b)/2.0\n",
    "x00 = b\n"
   ]
  },
  {
   "cell_type": "code",
   "execution_count": null,
   "metadata": {
    "collapsed": true
   },
   "outputs": [],
   "source": [
    "# stopping criteria\n",
    "eps = 1e-10\n",
    "n_max = 1000"
   ]
  },
  {
   "cell_type": "markdown",
   "metadata": {},
   "source": [
    "## Bisection method\n",
    "\n",
    "$$\n",
    "x^k = \\frac{a^k+b^k}{2}\n",
    "$$\n",
    "```\n",
    "                   if (f(a_k) * f(x_k)) < 0:\n",
    "                      b_k1 = x\n",
    "                      a_k1 = a_k\n",
    "                   else:\n",
    "                      a_k1 = x\n",
    "                      b_k1 = b_k\n",
    "```"
   ]
  },
  {
   "cell_type": "code",
   "execution_count": null,
   "metadata": {
    "collapsed": false
   },
   "outputs": [],
   "source": [
    "def bisect(f,a,b,eps,n_max):\n",
    "    # YOUR CODE HERE\n",
    "\n",
    "\n",
    "             \n",
    "        "
   ]
  },
  {
   "cell_type": "code",
   "execution_count": null,
   "metadata": {
    "collapsed": true
   },
   "outputs": [],
   "source": [
    "# is the number of iterations coherent with the theoretical estimation?"
   ]
  },
  {
   "cell_type": "markdown",
   "metadata": {},
   "source": [
    "In order to find out other methods for solving non-linear equations, let's compute the Taylor's series of $f(x^k)$ up to the first order \n",
    "\n",
    "$$\n",
    "f(x^k) \\simeq f(x^k) + (x-x^k)f^{\\prime}(x^k)\n",
    "$$\n",
    "which suggests the following iterative scheme\n",
    "$$\n",
    "x^{k+1} = x^k - \\frac{f(x^k)}{f^{\\prime}(x^k)}\n",
    "$$\n",
    "\n",
    "The following methods are obtained applying the above scheme where\n",
    "\n",
    "$$\n",
    "f^{\\prime}(x^k) \\approx q^k\n",
    "$$"
   ]
  },
  {
   "cell_type": "markdown",
   "metadata": {},
   "source": [
    "## Newton's method\n",
    "$$\n",
    "q^k = f^{\\prime}(x^k)\n",
    "$$\n",
    "\n",
    "$$\n",
    "x^{k+1} = x^k - \\frac{f(x^k)}{q^k}\n",
    "$$"
   ]
  },
  {
   "cell_type": "code",
   "execution_count": null,
   "metadata": {
    "collapsed": false
   },
   "outputs": [],
   "source": [
    "def newton(f,f_prime,x0,eps,n_max):\n",
    "    # YOUR CODE HERE"
   ]
  },
  {
   "cell_type": "markdown",
   "metadata": {},
   "source": [
    "## Chord method\n",
    "\n",
    "$$\n",
    "q^k \\equiv q = \\frac{f(b)-f(a)}{b-a}\n",
    "$$\n",
    "\n",
    "$$\n",
    "x^{k+1} = x^k - \\frac{f(x^k)}{q}\n",
    "$$"
   ]
  },
  {
   "cell_type": "code",
   "execution_count": null,
   "metadata": {
    "autoscroll": "json-false",
    "collapsed": false,
    "ein.tags": [
     "worksheet-0"
    ],
    "slideshow": {
     "slide_type": "-"
    }
   },
   "outputs": [],
   "source": [
    "def chord(f,a,b,x0,eps,n_max):\n",
    "    # YOUR CODE HERE"
   ]
  },
  {
   "cell_type": "markdown",
   "metadata": {},
   "source": [
    "## Secant method\n",
    "\n",
    "$$\n",
    "q^k = \\frac{f(x^k)-f(x^{k-1})}{x^k - x^{k-1}}\n",
    "$$\n",
    "\n",
    "$$\n",
    "x^{k+1} = x^k - \\frac{f(x^k)}{q^k}\n",
    "$$\n",
    "\n",
    "Note that this algorithm requirs **two** initial points"
   ]
  },
  {
   "cell_type": "code",
   "execution_count": null,
   "metadata": {
    "collapsed": false
   },
   "outputs": [],
   "source": [
    "def secant(f,x0,x00,eps,n_max):\n",
    "    # YOUR CODE HERE"
   ]
  },
  {
   "cell_type": "markdown",
   "metadata": {},
   "source": [
    "## Fixed point iterations\n",
    "\n",
    "$$\n",
    "f(x)=0 \\to x-\\phi(x)=0\n",
    "$$\n",
    "\n",
    "$$\n",
    "x^{k+1} = \\phi(x^k)\n",
    "$$"
   ]
  },
  {
   "cell_type": "code",
   "execution_count": null,
   "metadata": {
    "collapsed": false
   },
   "outputs": [],
   "source": [
    "def fixed_point(phi,x0,eps,n_max):\n",
    "    # YOUR CODE HERE"
   ]
  },
  {
   "cell_type": "markdown",
   "metadata": {},
   "source": [
    "## Comparison"
   ]
  },
  {
   "cell_type": "code",
   "execution_count": null,
   "metadata": {
    "collapsed": false
   },
   "outputs": [],
   "source": [
    "# plot the error convergence for the methods"
   ]
  },
  {
   "cell_type": "code",
   "execution_count": null,
   "metadata": {
    "collapsed": false
   },
   "outputs": [],
   "source": [
    "# Let's compare the scipy implmentation of Newton's method with our.."
   ]
  },
  {
   "cell_type": "code",
   "execution_count": null,
   "metadata": {
    "collapsed": true
   },
   "outputs": [],
   "source": []
  }
 ],
 "metadata": {
  "anaconda-cloud": {},
  "kernelspec": {
   "display_name": "Python 2",
   "language": "python",
   "name": "python2"
  },
  "language_info": {
   "codemirror_mode": {
    "name": "ipython",
    "version": 2
   },
   "file_extension": ".py",
   "mimetype": "text/x-python",
   "name": "python",
   "nbconvert_exporter": "python",
   "pygments_lexer": "ipython2",
   "version": "2.7.10"
  },
  "name": "07_non_linear_equations.ipynb"
 },
 "nbformat": 4,
 "nbformat_minor": 1
}
