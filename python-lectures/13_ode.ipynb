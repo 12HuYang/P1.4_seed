{
 "cells": [
  {
   "cell_type": "markdown",
   "metadata": {},
   "source": [
    "# ODE\n",
    "\n",
    "We will solve the following linear Cauchy model\n",
    "\n",
    "\\begin{align}\n",
    "y^{\\prime}(t) &= \\lambda y(t)\\\\\n",
    "y(0) & = 1\n",
    "\\end{align}\n",
    "\n",
    "whose exact solution is\n",
    "\n",
    "$$\n",
    "y(t) = e^{\\lambda t}\n",
    "$$\n"
   ]
  },
  {
   "cell_type": "code",
   "execution_count": null,
   "metadata": {
    "collapsed": false
   },
   "outputs": [],
   "source": [
    "%matplotlib inline\n",
    "from numpy import *\n",
    "from matplotlib.pyplot import *\n",
    "import scipy.linalg\n",
    "import numpy.linalg\n",
    "\n",
    "l = -5.\n",
    "t0 = 0.\n",
    "tf = 10.\n",
    "y0 = 1.\n",
    "\n",
    "s = linspace(t0,tf,5000)\n",
    "\n",
    "exact = lambda x: exp(l*x)\n",
    "\n"
   ]
  },
  {
   "cell_type": "markdown",
   "metadata": {},
   "source": [
    "### Forward Euler\n",
    "\n",
    "$$\n",
    "\\frac{y_{n}-y_{n-1}}{h} = f(y_{n-1}, t_{n-1})\n",
    "$$\n",
    "\n",
    "- Is this method implicit or explicit?\n",
    "- Try to solve the ODE with the following step size: 0.9, 0.41, 0.39, 0.15\n",
    "- Check the order of convergence"
   ]
  },
  {
   "cell_type": "code",
   "execution_count": null,
   "metadata": {
    "collapsed": false
   },
   "outputs": [],
   "source": [
    "def fe(l,y0,t0,tf,h):\n"
   ]
  },
  {
   "cell_type": "markdown",
   "metadata": {},
   "source": [
    "### Backward Euler\n",
    "\n",
    "$$\n",
    "\\frac{y_{n}-y_{n-1}}{h} = f(y_{n}, t_{n})\n",
    "$$\n",
    "\n",
    "- Is this method implicit or explicit?\n",
    "- Try to solve the ODE with the following step size: 0.9, 0.41, 0.39, 0.15\n",
    "- Check the order of convergence"
   ]
  },
  {
   "cell_type": "code",
   "execution_count": null,
   "metadata": {
    "collapsed": false
   },
   "outputs": [],
   "source": [
    "def be(l,y0,t0,tf,h):\n"
   ]
  },
  {
   "cell_type": "markdown",
   "metadata": {},
   "source": [
    "### $\\theta$-method\n",
    "\n",
    "$$\n",
    "\\frac{y_{n}-y_{n-1}}{h} = \\theta\\, f(y_{n}, t_{n}) + (1-\\theta)\\,f(y_{n-1}, t_{n-1})\n",
    "$$\n",
    "\n",
    "- Is this method implicit or explicit?\n",
    "- Fix $h=0.39$ and use $\\theta =0, 1, 0.5$. What do you see?\n",
    "- Check the order of convergence for $\\theta = 0.5$"
   ]
  },
  {
   "cell_type": "code",
   "execution_count": null,
   "metadata": {
    "collapsed": false
   },
   "outputs": [],
   "source": [
    "def tm(theta,l,y0,t0,tf,h):\n"
   ]
  },
  {
   "cell_type": "markdown",
   "metadata": {},
   "source": [
    "### Simple adaptive time stepper\n",
    "\n",
    "For each time step:\n",
    "- Compute solution with CN\n",
    "- Compute solution with BE\n",
    "- Check the difference\n",
    "- If the difference satisfy a given tolerance:\n",
    "    - keep the solution of higher order\n",
    "    - double the step size\n",
    "    - go to the next step\n",
    "- Else:\n",
    "    - half the step size and repeat the time step"
   ]
  },
  {
   "cell_type": "code",
   "execution_count": null,
   "metadata": {
    "collapsed": false
   },
   "outputs": [],
   "source": [
    "def adaptive(l,y0,t0,tf,h0, hmax=0.9,tol=1e-3):\n"
   ]
  }
 ],
 "metadata": {
  "anaconda-cloud": {},
  "kernelspec": {
   "display_name": "Python 2",
   "language": "python",
   "name": "python2"
  },
  "language_info": {
   "codemirror_mode": {
    "name": "ipython",
    "version": 2
   },
   "file_extension": ".py",
   "mimetype": "text/x-python",
   "name": "python",
   "nbconvert_exporter": "python",
   "pygments_lexer": "ipython2",
   "version": "2.7.10"
  }
 },
 "nbformat": 4,
 "nbformat_minor": 1
}
