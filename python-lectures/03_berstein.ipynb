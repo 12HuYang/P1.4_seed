{
 "cells": [
  {
   "cell_type": "code",
   "execution_count": 1,
   "metadata": {
    "collapsed": true
   },
   "outputs": [],
   "source": [
    "%matplotlib inline\n",
    "import numpy as np\n",
    "from pylab import *\n",
    "#from sympy import *\n",
    "import sympy as sym\n",
    "\n",
    "from scipy.special import binom as binomial\n",
    "\n",
    "import time"
   ]
  },
  {
   "cell_type": "code",
   "execution_count": 2,
   "metadata": {
    "collapsed": true
   },
   "outputs": [],
   "source": [
    "def linfty_norm(fun,a=0,b=1,nn=20):\n",
    "    xx = np.linspace(a,b,2**nn+1)\n",
    "    return np.amax(np.absolute(fun(xx)))\n",
    "\n",
    "def single_for_loop(deg,x):\n",
    "    Bn = np.zeros((deg+1, len(x)))\n",
    "    for i in xrange(deg+1):\n",
    "        Bn[i] = binomial(deg,i)*x**(i)*(1.-x)**(deg-i)\n",
    "    return Bn\n",
    "\n",
    "def meshgrid(deg,x):\n",
    "    xx,ii = np.meshgrid(x,xrange(deg+1))\n",
    "    return binomial(deg,ii)*xx**(ii)*(1.-xx)**(deg-ii)"
   ]
  },
  {
   "cell_type": "code",
   "execution_count": null,
   "metadata": {
    "collapsed": true
   },
   "outputs": [],
   "source": [
    "def berstein_interpolation_matrix(deg,x):\n",
    "    return single_for_loop(deg,x)\n",
    "\n",
    "def berstein_interpolation(f,q):\n",
    "    return lambda x : np.dot(np.transpose(berstein_interpolation_matrix(x,q)),f(q))"
   ]
  },
  {
   "cell_type": "code",
   "execution_count": 4,
   "metadata": {
    "collapsed": false
   },
   "outputs": [
    {
     "name": "stdout",
     "output_type": "stream",
     "text": [
      "Naif time = 1.61688303947\n",
      "Pythonic time = 4.12618780136\n"
     ]
    }
   ],
   "source": [
    "ref = 2**20+1 # So that x_i+1 - x_i is exactly representable in base 2\n",
    "x = np.linspace(0,1,ref)\n",
    "\n",
    "deg = 15\n",
    "\n",
    "f = lambda x: np.sin(2*np.pi*x)\n",
    "\n",
    "t0 = time.time()\n",
    "\n",
    "Bn = single_for_loop(deg,x)\n",
    "\n",
    "t1 = time.time()\n",
    "\n",
    "Bn = meshgrid(deg,x)\n",
    "\n",
    "t2 = time.time()\n",
    "\n",
    "print('Naif time = '+str(t1-t0))\n",
    "print('Pythonic time = '+str(t2-t1))\n",
    "\n",
    "#_ = plot(x,Bn.T)\n",
    "\n",
    "#l = lagrangian_interpolation(nf,q)\n",
    "\n",
    "#linfty = linfty_norm(lambda x : nf(x)-l(x))"
   ]
  },
  {
   "cell_type": "code",
   "execution_count": null,
   "metadata": {
    "collapsed": true
   },
   "outputs": [],
   "source": [
    "\n",
    "    "
   ]
  },
  {
   "cell_type": "code",
   "execution_count": null,
   "metadata": {
    "collapsed": false
   },
   "outputs": [],
   "source": [
    "x = sym.symbols('x')\n",
    "\n",
    "f = sym.sin(2.*sym.pi*x)\n",
    "\n",
    "df = sym.diff(f,x,3)\n",
    "\n",
    "print(df)\n",
    "\n",
    "nf = sym.lambdify(x,f,\"numpy\")\n",
    "\n",
    "print nf(np.array([1]))\n",
    "\n",
    "print(f)"
   ]
  },
  {
   "cell_type": "code",
   "execution_count": null,
   "metadata": {
    "collapsed": false
   },
   "outputs": [],
   "source": [
    "ref = 2**10+1 # So that x_i+1 - x_i is exactly representable in base 2\n",
    "x = np.linspace(0,1,ref)\n",
    "\n",
    "deg = 5\n",
    "\n",
    "f = lambda x: np.sin(2*np.pi*x)\n",
    "\n",
    "q = np.linspace(0,1,deg+1)\n",
    "\n",
    "l = lagrangian_interpolation(nf,q)\n",
    "\n",
    "linfty = linfty_norm(lambda x : nf(x)-l(x))"
   ]
  },
  {
   "cell_type": "code",
   "execution_count": null,
   "metadata": {
    "collapsed": false
   },
   "outputs": [],
   "source": [
    "Bn[i] = np.product([binomial(n,i)*t**(i)*(1.-t)**(n-i) (x-q[j])/(q[i]-q[j]) for j in xrange(n+1) if j != i], axis=0)\n",
    "\n",
    "\n",
    "\n",
    "figure(figsize=[10,5])\n",
    "\n",
    "\n",
    "\n",
    "for n in xrange(2,20):\n",
    "    # The interpolation points\n",
    "    q = linspace(0,1,n+1)\n",
    "    \n",
    "\n",
    "    # The interpolation function\n",
    "    f = lambda x: sin(2*pi*x)\n",
    "    \n",
    "    #Ln = lagrangian_interpolation_matrix(x,q)\n",
    "    l = lagrangian_interpolation(f,q)\n",
    "    \n",
    "    linfty=amax(absolute(l(x)-f(x)))\n",
    "    # t = symbols('t')\n",
    "    #deri=diff(lambda x: sin(2*pi*x), 1.0,2)\n",
    "    \n",
    "    print linfty\n",
    "    #figure(figsize=[10,5])\n",
    "    _ = semilogy (n,linfty,'ro')\n",
    "    \n",
    "\n",
    "#figure(figsize=[10,5])\n",
    "#_ = plot(x, f(x))\n",
    "#_ = plot(x, l(x))\n",
    "#_ = plot(q, f(q), 'ro')"
   ]
  },
  {
   "cell_type": "code",
   "execution_count": null,
   "metadata": {
    "collapsed": true
   },
   "outputs": [],
   "source": []
  },
  {
   "cell_type": "code",
   "execution_count": null,
   "metadata": {
    "collapsed": true
   },
   "outputs": [],
   "source": []
  }
 ],
 "metadata": {
  "kernelspec": {
   "display_name": "Python 2",
   "language": "python",
   "name": "python2"
  },
  "language_info": {
   "codemirror_mode": {
    "name": "ipython",
    "version": 2
   },
   "file_extension": ".py",
   "mimetype": "text/x-python",
   "name": "python",
   "nbconvert_exporter": "python",
   "pygments_lexer": "ipython2",
   "version": "2.7.10"
  }
 },
 "nbformat": 4,
 "nbformat_minor": 1
}
