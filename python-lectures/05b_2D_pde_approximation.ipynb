{
 "cells": [
  {
   "cell_type": "code",
   "execution_count": null,
   "metadata": {
    "collapsed": false
   },
   "outputs": [],
   "source": [
    "%matplotlib inline\n",
    "from numpy import *\n",
    "from matplotlib.pyplot import *"
   ]
  },
  {
   "cell_type": "markdown",
   "metadata": {},
   "source": [
    "# Weak Form - 1D\n",
    "\n",
    "Given $V_h := \\mathrm{span}\\{\\phi_i(x)\\}_{i=0}^{n-1}$.\n",
    "Find $u_h(x) \\in V_h$ s.t.\n",
    "\n",
    "$$\n",
    "\\int_{0}^1 u_h'\\, \\phi_i' = \\int_0^1 f(x)\\, \\phi_i, \\quad i = 0,\\ldots, n-1\n",
    "$$\n",
    "\n",
    "$$\n",
    "\\int_{0}^1 u_h'\\, \\phi_i' = \\left(\\int_{0}^1 \\phi_j'\\, \\phi_i'\\right)\\, u^j \n",
    "$$\n",
    "\n",
    "This results in the following matrix:\n",
    "\n",
    "$$\n",
    "A_{ij} = \\left(\\int_{0}^1 \\phi_j'\\, \\phi_i'\\right)\n",
    "$$\n",
    "\n",
    "In order to perform this integration, we use some quadrature rules, chosen so that the product above is integrated exactly.\n",
    "\n",
    "We start by defining the **Local Finite Element Space** of order $k$, defined using $\\hat T := [0,1]$ (the **reference element**), $\\hat{\\mathcal{P}}^k([0,1])$ (the **local polynomial space**), and $\\hat N$ (the **set of nodal functions**, that are a basis for the dual space of $\\hat{\\mathcal{P}}^k([0,1])$). \n",
    "\n",
    "We define everything in a very general way, so that we can extend it to high order polynomials (or two dimensions) in no time.\n",
    "\n",
    "The basis functions, $V = \\{v_i\\}_{i=0}^{n-1}$, are defined implicitly, imposing orthogonality with $N := \\{v^i\\}_{i=0}^{n-1}$, i.e., $v^j(v_i) = \\delta^j_i$.\n",
    "\n",
    "In order for this to work, we need to first start from a known basis for $\\mathcal{P}^k([0,1]) = \\textrm{span}\\{e_i\\}_{i=0}^k =: \\textrm{span} E$, and re-write our basis $V$ in terms of $E$.\n",
    "\n",
    "$$\n",
    "e_i = pow(x,i), \\qquad v_i = v_i^k e_k \\qquad v^j(v_i) = v^j(e_k) v^k_i \n",
    "$$\n",
    "\n",
    "For each basis function $v_i$, we need to solve a system of equations in the $n$ unkonwns $v_i^k$ (free index $k$). Once this is done, we have our new polynomial basis functions (the **canonical basis** with respect to $N$):\n",
    "\n",
    "$$\n",
    "v^j(e_k) v^k_i  = C^j_k v^k_i = \\delta^j_i \\qquad i = 0, \\ldots, n-1\n",
    "$$"
   ]
  },
  {
   "cell_type": "code",
   "execution_count": null,
   "metadata": {
    "collapsed": false,
    "scrolled": true
   },
   "outputs": [],
   "source": [
    "from numpy.polynomial.polynomial import *\n",
    "\n",
    "n = 5\n",
    "# d = n-1\n",
    "\n",
    "# Start by defining the local dual basis functions. These are linear functions on polynomials with\n",
    "# values in R.\n",
    "N = []\n",
    "\n",
    "support_points = linspace(0,1,5)\n",
    "\n",
    "for s in support_points:\n",
    "    N.append(lambda f, s=s: f(s))\n",
    "\n",
    "# Dimension of the polynomial space\n",
    "n = len(N) \n",
    "\n",
    "# Construct the local space V, as the set of polynomials of order len(N)-1 such that the \n",
    "# dual basis above, evaluated on the basis, gives the identity matrix. We start by defining \n",
    "# monomials, so that we can use numpy Polynomial package\n",
    "E = []\n",
    "for i in range(len(N)):\n",
    "    c = zeros((i+1,))\n",
    "    c[-1] = 1\n",
    "    E.append(Polynomial(c)) # Now E[i] contains the monomial x^i\n",
    "\n",
    "# Construct the actual basis in terms of monomials,\n",
    "# By solving for each basis a change of coordinate system\n",
    "C = zeros((n,n)) # Matrix for the change of variables\n",
    "for i in range(n):\n",
    "    for j in range(n):\n",
    "        C[i,j] = N[i](E[j])\n",
    "\n",
    "# Auxiliary space to plot the result\n",
    "s = linspace(0,1,1025)\n",
    "V = []\n",
    "for k in range(n):\n",
    "    ei = zeros((n,))\n",
    "    ei[k] = 1. # delta_ik\n",
    "    vk = linalg.solve(C, ei)\n",
    "    V.append(Polynomial(vk)) # Construct the basis using the right coefficients of the polynomials\n",
    "    plot(s, V[k](s))"
   ]
  },
  {
   "cell_type": "markdown",
   "metadata": {},
   "source": [
    "Now we have our local basis functions, constructed using **exclusively** the definition of the **Finite Element**, i.e., a reference element ([0,1]), a polynomial space, and a basis for the dual of the polynomial space."
   ]
  },
  {
   "cell_type": "code",
   "execution_count": null,
   "metadata": {
    "collapsed": false
   },
   "outputs": [],
   "source": [
    "from numpy.polynomial.legendre import leggauss\n",
    "\n",
    "nq = 2*len(N)-1\n",
    "# degree = 10\n",
    "q,w = leggauss(nq) # Gauss between -1 and 1\n",
    "q = (q+1)/2 # Go back to 0,1 \n",
    "w = w/2\n",
    "\n",
    "print(q)"
   ]
  },
  {
   "cell_type": "markdown",
   "metadata": {},
   "source": [
    "Now we evaluate all local basis functions and all derivatives of the basis functions at the quadrature points."
   ]
  },
  {
   "cell_type": "code",
   "execution_count": null,
   "metadata": {
    "collapsed": false
   },
   "outputs": [],
   "source": [
    "# Lq_ijk = L[j]^(i)(q_k)\n",
    "# ith derivative of jth basis function at point qk\n",
    "n = len(N)\n",
    "nq = len(q)\n",
    "nder = 2\n",
    "Lq = zeros((nder,n,nq))\n",
    "\n",
    "for i in range(nder):\n",
    "    for j in range(n):\n",
    "        Lq[i][j] = V[j].deriv(i)(q)"
   ]
  },
  {
   "cell_type": "markdown",
   "metadata": {},
   "source": [
    "$$\n",
    "M_{ij} = \\int_0^1 v_j(x) v_i(x) dx \n",
    "$$\n",
    "\n",
    "$$\n",
    "K_{ij} = \\int_0^1 v'_j(x) v'_i(x) dx \n",
    "$$\n",
    "\n",
    "$$\n",
    "-\\Delta u + u = f \\quad \\text{ in } \\Omega\n",
    "$$\n",
    "$$\n",
    "\\frac{\\partial u}{\\partial n} = 0 \\quad \\text{ on } \\partial \\Omega\n",
    "$$\n",
    "\n",
    "## Weak form:\n",
    "$$\n",
    "\\begin{split}\n",
    "&(-\\Delta u + u, v) = (f,v) \\quad \\forall v \\in V \\\\\n",
    "& (\\nabla u, \\nabla v) + (u,v) = (f,v) \\quad \\forall v \\in V \n",
    "\\end{split}\n",
    "$$\n",
    "\n",
    "$$\n",
    "(u,v) := \\int_\\Omega u v dx\n",
    "$$\n",
    " \n",
    "\n",
    "$$\n",
    "A_{ij} := (\\nabla v_j, \\nabla v_i) + (v_j, v_i)\n",
    "$$\n",
    "\n",
    "$$\n",
    "(u,v) := \\int_\\Omega u v dx \\sim \\sum_{q=0}^{nq} u(x_q) v(x_q) w_q\n",
    "$$\n",
    "\n",
    "$$\n",
    "M u = M_{ij} u^j = (v_j,v_i) u^j := \\int_\\Omega u^j v_j v_i dx \\sim \\sum_{q=0}^{nq} v_j(x_q) v_i(x_q) w_q u^j\n",
    "$$"
   ]
  },
  {
   "cell_type": "code",
   "execution_count": null,
   "metadata": {
    "collapsed": false
   },
   "outputs": [],
   "source": [
    "M = einsum('jq, iq, q -> ij', Lq[0], Lq[0], w)\n",
    "K = einsum('jq, iq, q -> ij', Lq[1], Lq[1], w)\n",
    "\n",
    "A = M+K"
   ]
  },
  {
   "cell_type": "markdown",
   "metadata": {},
   "source": [
    "# 2D\n",
    "\n",
    "$$\n",
    "\\varphi_{ij}(x,y) := v_i(y) v_j(x), \\qquad V:= \\text{span}\\{ \\varphi_{ij} \\}_{i,j=0}^{n,n}, \\text{dim}(V) = n^2\n",
    "$$\n",
    "\n",
    "$$\n",
    "\\Omega = [0,1]^2, (u,v) := \\int_0^1 \\int_0^1 u_k(y) u_l(x) v_i(y) v_j(x) \\, dx \\, dy = \\int_0^1 u_k(x) v_j(x) \\, dx  \\int_0^1 u_l(y) v_i(y)  \\, dy \n",
    "$$\n",
    "\n",
    "$$\n",
    "u(x,y) := u^{kl} \\varphi_{kl}(x,y)\n",
    "$$\n",
    "$$\n",
    "v(x,y) := v^{ij} \\varphi_{ij}(x,y)\n",
    "$$\n",
    "\n",
    "$$\n",
    "M_{ijkl} := (\\varphi_{kl}, \\varphi_{ij})\n",
    "$$\n",
    "\n",
    "$$\n",
    "K_{ijkl} := (\\nabla \\varphi_{kl}, \\nabla \\varphi_{ij})\n",
    "$$\n",
    "\n",
    "$$\n",
    "M_{ijkl} := (\\varphi_{kl}, \\varphi_{ij}) = \\int_0^1 \\int_0^1 v_k(y) v_l(x) v_i(y) v_j(x) \\, dx \\, dy \\sim \\sum_{a=0}^{nq-1} \\sum_{b=0}^{nq-1} v_k(y_a) v_l(x_b) v_i(y_a) v_j(x_b) w_a w_b\n",
    "$$\n",
    "\n",
    "\n",
    "$$\n",
    "\\nabla \\varphi_{ij} := [ \\partial_x \\varphi_{ij}(x,y)  , \\partial_y  \\varphi_{ij} (x,y) ] = [ v_i(y) v'_j(x), v'_i(y) v_j(x) ]\n",
    "$$\n",
    "\n",
    "$$\n",
    "\\nabla \\varphi_{kl} := [ \\partial_x \\varphi_{kl}(x,y)  , \\partial_y  \\varphi_{kl} (x,y) ] = [ v_k(y) v'_l(x), v'_k(y) v_l(x) ]\n",
    "$$\n",
    "$$\n",
    "\\nabla \\varphi_{ij} \\cdot \\nabla \\varphi_{kl}  :=  v_i(y) v'_j(x) v_k(y) v'_l(x) +  v'_i(y) v_j(x) v'_k(y) v_l(x)\n",
    "$$\n",
    "\n",
    "\n",
    "in 3D:\n",
    "\n",
    "$$\n",
    "\\nabla \\varphi_{ijk} \\cdot \\nabla \\varphi_{lmn}  :=  \n",
    "v_i(z) v_j(y) v'_k(x)   v_l(z) v_m(y) v'_n(x) +\n",
    "v_i(z) v_j'(y) v_k(x)   v_l(z) v'_m(y) v_n(x) +\n",
    "v'_i(z) v_j(y) v_k(x)   v'_l(z) v_m(y) v_n(x)\n",
    "$$\n",
    "\n"
   ]
  },
  {
   "cell_type": "code",
   "execution_count": null,
   "metadata": {
    "collapsed": true
   },
   "outputs": [],
   "source": [
    "M2d =  einsum('ia, jb, ka, lb, a, b -> ijkl', Lq[0], Lq[0], Lq[0], Lq[0], w, w)\n",
    "K2d =  einsum('ia, jb, ka, lb, a, b -> ijkl', Lq[0], Lq[1], Lq[0], Lq[1], w, w)\n",
    "K2d += einsum('ia, jb, ka, lb, a, b -> ijkl', Lq[1], Lq[0], Lq[1], Lq[0], w, w)\n",
    "\n",
    "A2d = M2d+K2d"
   ]
  },
  {
   "cell_type": "code",
   "execution_count": null,
   "metadata": {
    "collapsed": false
   },
   "outputs": [],
   "source": [
    "AA = A2d.reshape((n*n, n*n))\n",
    "AA.shape"
   ]
  },
  {
   "cell_type": "code",
   "execution_count": null,
   "metadata": {
    "collapsed": false
   },
   "outputs": [],
   "source": [
    "u = -cos(2*pi*q)\n",
    "up = 2*pi*sin(2*pi*q)\n",
    "upp = 4*pi**2*cos(2*pi*q)\n",
    "\n",
    "f = -upp + u \n",
    "\n",
    "plot(q,u)"
   ]
  },
  {
   "cell_type": "markdown",
   "metadata": {},
   "source": [
    "# Manufactured solution in 2D\n",
    "\n",
    "$$\n",
    "u(x) = -cos(2\\pi x)\n",
    "$$\n",
    "\n",
    "$$\n",
    "U(x,y) = u(x)u(y)\n",
    "$$\n",
    "\n",
    "$$\n",
    "-\\Delta U = - \\partial_{xx} U - \\partial_{yy} U = -u''(x)u(y) - u''(y)u(x)\n",
    "$$\n",
    "\n",
    "$$\n",
    "F = -\\Delta U + U = -u''(x)u(y) - u''(y)u(x) + u(x)u(y)\n",
    "$$\n",
    "\n",
    "$$\n",
    "F_{ab} := -u(y_a) u''(x_b) - u''(y_a)u(x_b) + u(y_a)u(x_b)\n",
    "$$\n",
    "\n",
    "Rhs of Finite Element Method: \n",
    "\n",
    "$$\n",
    "RHS_{ij} = (F,\\varphi_{ij}) := \\sum^{nq-1}_{a=0}\\sum^{nq-1}_{b=0} F_{ab} v_i(y_a) v_j(x_b) w_a w_b\n",
    "$$\n"
   ]
  },
  {
   "cell_type": "code",
   "execution_count": null,
   "metadata": {
    "collapsed": false
   },
   "outputs": [],
   "source": [
    "k = 2*pi\n",
    "u = cos(k*q)\n",
    "up = -k*sin(k*q)\n",
    "upp = -k**2*cos(k*q)\n",
    "\n",
    "f = -upp + u \n",
    "\n",
    "F = einsum('ia, jb, a, b, a, b', Lq[0], Lq[0], u, -upp, w, w)\n",
    "F += einsum('ia, jb, a, b, a, b', Lq[0], Lq[0], -upp, u, w, w)\n",
    "F += einsum('ia, jb, a, b, a, b', Lq[0], Lq[0], u, u, w, w)\n",
    "\n",
    "b = F.reshape((n**2, 1))"
   ]
  },
  {
   "cell_type": "code",
   "execution_count": null,
   "metadata": {
    "collapsed": false
   },
   "outputs": [],
   "source": [
    "# solve: AA.dot(x) = b\n",
    "\n",
    "x = np.linalg.solve(AA,b) "
   ]
  },
  {
   "cell_type": "code",
   "execution_count": null,
   "metadata": {
    "collapsed": true
   },
   "outputs": [],
   "source": [
    "# Plots\n",
    "ns = 51\n",
    "s = linspace(0,1,ns)\n",
    "\n",
    "Ls = zeros((n, ns))\n",
    "for j in range(n):\n",
    "    Ls[j] = V[j](s)"
   ]
  },
  {
   "cell_type": "code",
   "execution_count": null,
   "metadata": {
    "collapsed": false
   },
   "outputs": [],
   "source": [
    "# 2D Interp matrix:\n",
    "\n",
    "C = einsum('is, jk -> skij', Ls, Ls)\n",
    "\n",
    "Xs = einsum('skij, ij', C, x.reshape(n,n))\n",
    "X, Y = meshgrid(s,s)\n"
   ]
  },
  {
   "cell_type": "code",
   "execution_count": null,
   "metadata": {
    "collapsed": false
   },
   "outputs": [],
   "source": [
    "import matplotlib.pyplot as plt\n",
    "from mpl_toolkits.mplot3d import Axes3D\n",
    "fig = plt.figure()\n",
    "ax = fig.add_subplot(111, projection='3d')\n",
    "\n",
    "ax.plot_surface(X,Y,Xs)"
   ]
  },
  {
   "cell_type": "markdown",
   "metadata": {},
   "source": [
    "See \n",
    "\n",
    "https://www.dealii.org/8.4.0/doxygen/deal.II/step_37.html\n",
    "\n",
    "for an explanation of how to do \"matrix free\" stuff faster!"
   ]
  },
  {
   "cell_type": "markdown",
   "metadata": {},
   "source": [
    "# Explanation of Matrix free.\n",
    "\n",
    "$$\n",
    "M_{ij} = (v^t v)_{ij} = v_i v_j\n",
    "$$\n",
    "\n",
    "Size of $M = n \\times n$. Cost of $ M u$ is $O(n^2)$.\n",
    "\n",
    "\n",
    "If you do $ v_j \\cdot u_j$, and then *scale* the result with $v_i$, the cost is $O(n)$.\n",
    "\n",
    "$$\n",
    "M_{ij} u^j = \\sum_{j=0}^{n-1} M_{ij} u^j,  i = 0 \\ldots n-1\n",
    "$$\n",
    "\n",
    "By definition of $M$, though:\n",
    "\n",
    "$$\n",
    "M_{ij} = v_i v_j\n",
    "$$\n",
    "\n",
    "then \n",
    "\n",
    "$$\n",
    "M_{ij} u^j := \\big(\\sum_{j=0}^{n-1} v_j u^j\\big) v_i\n",
    "$$\n",
    "\n",
    "Call $ a := \\sum_{j=0}^{n-1} v_j u^j$ (cost $O(n)$). \n",
    "\n",
    "$$\n",
    "M_{ij} u^j = a v_i \n",
    "$$\n",
    "\n",
    "cost of $a v_i$ is $O(n)$\n",
    "\n",
    "\n"
   ]
  },
  {
   "cell_type": "code",
   "execution_count": null,
   "metadata": {
    "collapsed": true
   },
   "outputs": [],
   "source": []
  }
 ],
 "metadata": {
  "anaconda-cloud": {},
  "kernelspec": {
   "display_name": "Python [conda root]",
   "language": "python",
   "name": "conda-root-py"
  },
  "language_info": {
   "codemirror_mode": {
    "name": "ipython",
    "version": 3
   },
   "file_extension": ".py",
   "mimetype": "text/x-python",
   "name": "python",
   "nbconvert_exporter": "python",
   "pygments_lexer": "ipython3",
   "version": "3.5.2"
  }
 },
 "nbformat": 4,
 "nbformat_minor": 1
}
