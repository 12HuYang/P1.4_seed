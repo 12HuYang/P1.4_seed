{
 "cells": [
  {
   "cell_type": "code",
   "execution_count": 1,
   "metadata": {
    "collapsed": true
   },
   "outputs": [],
   "source": [
    "#%matplotlib inline\n",
    "import numpy as np\n",
    "#from pylab import *\n",
    "#from sympy import *\n",
    "import sympy as sym"
   ]
  },
  {
   "cell_type": "code",
   "execution_count": 2,
   "metadata": {
    "collapsed": true
   },
   "outputs": [],
   "source": [
    "def linfty_norm(fun,a=0,b=1,nn=20):\n",
    "    xx = np.linspace(a,b,2**nn+1)\n",
    "    return np.amax(np.absolute(fun(xx)))\n",
    "\n",
    "def lagrangian_interpolation_matrix(x,q):\n",
    "    n = q.shape[0]-1\n",
    "    Ln = np.zeros((n+1, len(x)))\n",
    "\n",
    "    for i in xrange(n+1):\n",
    "        Ln[i] = np.product([ (x-q[j])/(q[i]-q[j]) for j in xrange(n+1) if j != i], axis=0)\n",
    "        \n",
    "    return Ln\n",
    "\n",
    "def lagrangian_interpolation(f,q):\n",
    "    return lambda x : np.dot(np.transpose(lagrangian_interpolation_matrix(x,q)),f(q))\n",
    "    "
   ]
  },
  {
   "cell_type": "code",
   "execution_count": 18,
   "metadata": {
    "collapsed": false
   },
   "outputs": [
    {
     "name": "stdout",
     "output_type": "stream",
     "text": [
      "-8.0*pi**3*cos(2.0*pi*x)\n",
      "-2.44929359829e-16\n",
      "sin(2.0*pi*x)\n"
     ]
    }
   ],
   "source": [
    "x = sym.symbols('x')\n",
    "\n",
    "f = sym.sin(2.*sym.pi*x)\n",
    "\n",
    "df = sym.diff(f,x,3)\n",
    "\n",
    "print(df)\n",
    "\n",
    "nf = sym.lambdify(x,f)\n",
    "\n",
    "print nf(np.array([1]))\n",
    "\n",
    "print(f)"
   ]
  },
  {
   "cell_type": "code",
   "execution_count": null,
   "metadata": {
    "collapsed": false
   },
   "outputs": [],
   "source": [
    "ref = 2**10+1 # So that x_i+1 - x_i is exactly representable in base 2\n",
    "x = np.linspace(0,1,ref)\n",
    "\n",
    "deg = 5\n",
    "\n",
    "f = lambda x: np.sin(2*np.pi*x)\n",
    "\n",
    "q = np.linspace(0,1,deg+1)\n",
    "\n",
    "l = lagrangian_interpolation(f,q)\n",
    "\n",
    "linfty = linfty_norm(lambda x : f(x)-l(x))"
   ]
  },
  {
   "cell_type": "code",
   "execution_count": null,
   "metadata": {
    "collapsed": false
   },
   "outputs": [],
   "source": [
    "\n",
    "\n",
    "\n",
    "\n",
    "figure(figsize=[10,5])\n",
    "\n",
    "\n",
    "\n",
    "for n in xrange(2,20):\n",
    "    # The interpolation points\n",
    "    q = linspace(0,1,n+1)\n",
    "    \n",
    "\n",
    "    # The interpolation function\n",
    "    f = lambda x: sin(2*pi*x)\n",
    "    \n",
    "    #Ln = lagrangian_interpolation_matrix(x,q)\n",
    "    l = lagrangian_interpolation(f,q)\n",
    "    \n",
    "    linfty=amax(absolute(l(x)-f(x)))\n",
    "    # t = symbols('t')\n",
    "    #deri=diff(lambda x: sin(2*pi*x), 1.0,2)\n",
    "    \n",
    "    print linfty\n",
    "    #figure(figsize=[10,5])\n",
    "    _ = semilogy (n,linfty,'ro')\n",
    "    \n",
    "\n",
    "figure(figsize=[10,5])\n",
    "_ = plot(x, f(x))\n",
    "_ = plot(x, l(x))\n",
    "_ = plot(q, f(q), 'ro')"
   ]
  },
  {
   "cell_type": "code",
   "execution_count": null,
   "metadata": {
    "collapsed": true
   },
   "outputs": [],
   "source": []
  },
  {
   "cell_type": "code",
   "execution_count": null,
   "metadata": {
    "collapsed": true
   },
   "outputs": [],
   "source": []
  }
 ],
 "metadata": {
  "kernelspec": {
   "display_name": "Python 2",
   "language": "python",
   "name": "python2"
  },
  "language_info": {
   "codemirror_mode": {
    "name": "ipython",
    "version": 2
   },
   "file_extension": ".py",
   "mimetype": "text/x-python",
   "name": "python",
   "nbconvert_exporter": "python",
   "pygments_lexer": "ipython2",
   "version": "2.7.10"
  }
 },
 "nbformat": 4,
 "nbformat_minor": 1
}
