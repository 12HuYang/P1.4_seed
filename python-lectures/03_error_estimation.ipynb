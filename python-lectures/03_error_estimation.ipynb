{
 "cells": [
  {
   "cell_type": "code",
   "execution_count": 1,
   "metadata": {
    "collapsed": true
   },
   "outputs": [],
   "source": [
    "%matplotlib inline\n",
    "import numpy as np\n",
    "import pylab as pl\n",
    "import sympy as sym"
   ]
  },
  {
   "cell_type": "code",
   "execution_count": 2,
   "metadata": {
    "collapsed": true
   },
   "outputs": [],
   "source": [
    "def lagrangian_interpolation(f,q):\n",
    "    return lambda x : np.dot(np.transpose(lagrangian_interpolation_matrix(x,q)),f(q))\n",
    "\n",
    "def omega_tensor(q):\n",
    "    _n = q.shape[0]-1\n",
    "    return lambda x : np.product([x-q[i] for i in xrange(_n+1)], axis = 0)\n",
    "    "
   ]
  },
  {
   "cell_type": "markdown",
   "metadata": {},
   "source": [
    "The estimate we want to check:\n",
    "\n",
    "$$\n",
    "|| f -p || \\leq ||f^{n+1}||_\\infty \\frac{||w(x)||_\\infty}{(n+1)!}\n",
    "$$\n",
    "\n",
    "in order to do so we need to define, simbolic and numerical functions. [`Sympy`]() is a very useful package to handle symbolic expressions and to export them to numerical functions. A the beginnnig of this notebook it is imported with the command: `import sympy as sym`. Let's define a simple function:\n",
    "\n",
    "**Hint:** Try to plat around, derivatives integrals..."
   ]
  },
  {
   "cell_type": "code",
   "execution_count": 3,
   "metadata": {
    "collapsed": false
   },
   "outputs": [
    {
     "name": "stdout",
     "output_type": "stream",
     "text": [
      "sin(2.0*pi*t)\n"
     ]
    }
   ],
   "source": [
    "t = sym.symbols('t')\n",
    "sf = sym.sin(2.*sym.pi*t) # sf, simbolic function.\n",
    "print(sf)"
   ]
  },
  {
   "cell_type": "markdown",
   "metadata": {},
   "source": [
    "To make this function *digestible* by numpy we use the simple command `nf = sym.lambdify(t,f, 'numpy')`"
   ]
  },
  {
   "cell_type": "code",
   "execution_count": 4,
   "metadata": {
    "collapsed": false
   },
   "outputs": [
    {
     "name": "stdout",
     "output_type": "stream",
     "text": [
      "<function <lambda> at 0x10b0d0668>\n",
      "[ 0.  1.]\n"
     ]
    }
   ],
   "source": [
    "f = sym.lambdify(t,sf, 'numpy')\n",
    "print(f)\n",
    "print(f(np.array([0,.25])))"
   ]
  },
  {
   "cell_type": "markdown",
   "metadata": {},
   "source": [
    "We aim at controlling all of the pieces of the inequality above, plot how terms behave with the degree, and see what happens `:)`\n",
    "\n",
    "Good thing is to start from the beginning and control the term $||f-p||_\\infty$. We recall that:\n",
    "$$\n",
    "p = \\mathcal{L}^n f := \\sum_{i=0}^n f(x_i) l^n_i(x),\n",
    "$$\n",
    "\n",
    "with\n",
    "\n",
    "$$\n",
    "l^n_i(x) := \\prod_{j=0, j\\neq i}^n \\frac{(x-x_j)}{(x_i-x_j)}  \\qquad\n",
    "i = 0, \\dots, n.\n",
    "$$\n",
    "\n",
    "Let's implment this guy. We want to fill the matrix `Ln` with $n+1$ rows and as many colums as the number of points where we evaluate the funtion. A good idea would be to collect the few operations in a function, like this one:\n",
    "```python\n",
    "def lagrangian_interpolation_matrix(x,q):\n",
    "    ...\n",
    "    return Ln\n",
    "```\n",
    "so that we can recalli whenever we need it.\n",
    "\n",
    "**Hint:** I wouldn't call myself a good programmer, but I do my best to be like that. First construct the code in the main section of your program, run it, check that it works, then collect the precious commmands you wrote in an elegant function."
   ]
  },
  {
   "cell_type": "markdown",
   "metadata": {},
   "source": [
    "### Step 0\n",
    "\n",
    "```python\n",
    "n = 3\n",
    "q = np.linspace(0,1,n+1)\n",
    "\n",
    "x = np.linspace(0,1,2**4+1)\n",
    "\n",
    "Ln = np.zeros((n+1, len(x)))\n",
    "\n",
    "for i in xrange(n+1):\n",
    "    Ln[i] = np.product([ (x-q[j])/(q[i]-q[j]) for j in xrange(n+1) if j != i], axis=0)\n",
    "\n",
    "_ = pl.plot(x,Ln.T)\n",
    "```"
   ]
  },
  {
   "cell_type": "code",
   "execution_count": 5,
   "metadata": {
    "collapsed": true
   },
   "outputs": [],
   "source": [
    "def lagrangian_interpolation_matrix(x,q):\n",
    "    n = q.shape[0]-1\n",
    "    Ln = np.zeros((n+1, len(x)))\n",
    "\n",
    "    for i in xrange(n+1):\n",
    "        Ln[i] = np.product([ (x-q[j])/(q[i]-q[j]) for j in xrange(n+1) if j != i], axis=0)\n",
    "        \n",
    "    return Ln"
   ]
  },
  {
   "cell_type": "code",
   "execution_count": 6,
   "metadata": {
    "collapsed": false
   },
   "outputs": [
    {
     "data": {
      "image/png": "[encoded data removed]",
      "text/plain": [
       "<matplotlib.figure.Figure at 0x10b0b1fd0>"
      ]
     },
     "metadata": {},
     "output_type": "display_data"
    }
   ],
   "source": [
    "n = 3\n",
    "q = np.linspace(0,1,n+1)\n",
    "\n",
    "x = np.linspace(0,1,2**5+1)\n",
    "\n",
    "Ln = lagrangian_interpolation_matrix(x,q)\n",
    "\n",
    "_ = pl.plot(x,Ln.T)"
   ]
  },
  {
   "cell_type": "markdown",
   "metadata": {},
   "source": [
    "From the previous lecture we know that the mathemathical expression:\n",
    "$$\n",
    "\\mathcal{L}^nf := \\sum_{i=0}^n f(x_i) l^n_i(x) \n",
    "$$\n",
    "\n",
    "Can be easyly translated into the `numpy` line:\n",
    "```python\n",
    "Ln.T.dot(f(x))\n",
    "```\n",
    "Let's give it a try:\n"
   ]
  },
  {
   "cell_type": "code",
   "execution_count": 7,
   "metadata": {
    "collapsed": false
   },
   "outputs": [
    {
     "data": {
      "image/png": "[encoded data removed]",
      "text/plain": [
       "<matplotlib.figure.Figure at 0x10bd517d0>"
      ]
     },
     "metadata": {},
     "output_type": "display_data"
    }
   ],
   "source": [
    "#print(Ln.shape)\n",
    "#print(f(x).shape)\n",
    "_ = pl.plot(x,Ln.T.dot(f(q)))\n",
    "_ = pl.plot(x,f(x),'g')"
   ]
  },
  {
   "cell_type": "markdown",
   "metadata": {},
   "source": [
    "Ok this works, but wouldn't it be good to have a code that looks like mathemathics? In this way it should be easer to debug.. Mathemattics looks like: $\\mathcal{L}^nf$. And code:"
   ]
  },
  {
   "cell_type": "code",
   "execution_count": 8,
   "metadata": {
    "collapsed": false
   },
   "outputs": [
    {
     "data": {
      "image/png": "[encoded data removed]",
      "text/plain": [
       "<matplotlib.figure.Figure at 0x10be54c90>"
      ]
     },
     "metadata": {},
     "output_type": "display_data"
    }
   ],
   "source": [
    "Lf = lambda x : lagrangian_interpolation_matrix(x,q).T.dot(f(q))\n",
    "\n",
    "_ = pl.plot(x,Lf(x)) # isn't this looking better?\n",
    "_ = pl.plot(x,f(x),'g')"
   ]
  },
  {
   "cell_type": "markdown",
   "metadata": {},
   "source": [
    "We need a very simple function to evaluate the norm infinity of a function $||\\cdot||_\\infty$:"
   ]
  },
  {
   "cell_type": "code",
   "execution_count": 9,
   "metadata": {
    "collapsed": true
   },
   "outputs": [],
   "source": [
    "def linfty_norm(fun,a=0,b=1,nn=12):\n",
    "    xx = np.linspace(a,b,2**nn+1)\n",
    "    return np.amax(np.absolute(fun(xx)))"
   ]
  },
  {
   "cell_type": "code",
   "execution_count": 10,
   "metadata": {
    "collapsed": false
   },
   "outputs": [
    {
     "data": {
      "image/png": "[encoded data removed]",
      "text/plain": [
       "<matplotlib.figure.Figure at 0x10bdf3e90>"
      ]
     },
     "metadata": {},
     "output_type": "display_data"
    }
   ],
   "source": [
    "error = lambda x : f(x) - Lf(x)\n",
    "\n",
    "test_degrees = np.arange(2,20)\n",
    "test_errors = []\n",
    "\n",
    "for n in test_degrees:\n",
    "    q = np.linspace(0,1,n+1)\n",
    "    test_errors.append(linfty_norm(error))\n",
    "\n",
    "h1 = pl.semilogy(test_degrees,test_errors,label = 'Error')\n",
    "_ = pl.legend()\n"
   ]
  },
  {
   "cell_type": "code",
   "execution_count": null,
   "metadata": {
    "collapsed": true
   },
   "outputs": [],
   "source": [
    "def compute_error_estimate(symf, maxgrade=20, npoints=1025, a=0, b=1):\n",
    "    x = np.linspace(a,b,npoints)\n",
    "\n",
    "    # numpy array\n",
    "    nf = sym.lambdify(t,f, 'numpy') \n",
    "\n",
    "    pl.figure(figsize=[10,5])\n",
    "\n",
    "\n",
    "\n",
    "    for n in xrange(2,maxgrade):\n",
    "        # The interpolation points\n",
    "        q = np.linspace(a,b,n+1)\n",
    "    \n",
    "        l = lagrangian_interpolation(nf,q)\n",
    "    \n",
    "        df = sym.diff(f,t,n+1)\n",
    "        dnf = sym.lambdify(t,df, 'numpy')\n",
    "        w = omega_tensor(q)\n",
    "    \n",
    "        lhs_linfty = linfty_norm(lambda x : nf(x)-l(x),a,b)\n",
    "        df_linfty = linfty_norm(lambda x : dnf(x)-l(x),a,b)\n",
    "        w_linfty = linfty_norm(lambda x : w(x),a,b )\n",
    "        w_linfty /= np.math.factorial(n+1)\n",
    "    \n",
    "        rhs_linfty = df_linfty * w_linfty\n",
    "\n",
    "        #figure(figsize=[10,5])\n",
    "        _ = pl.semilogy (n,lhs_linfty, 'ro')\n",
    "        #_ = pl.semilogy(n,df_linfty, 'y.') # linfty norm of the n+1 derivative\n",
    "        #_= pl.semilogy(n,w_linfty, 'b+') # linfty norm of w(x)/(n+1)!\n",
    "        _= pl.semilogy(n,rhs_linfty, 'g*')\n",
    "    \n",
    "\n",
    "    # plot the interpolation at the LAST iteration\n",
    "    pl.figure(figsize=[10,5])\n",
    "    _ = pl.plot(x, nf(x))\n",
    "    _ = pl.plot(x, l(x))\n",
    "    _ = pl.plot(q, nf(q), 'ro')\n",
    "    "
   ]
  },
  {
   "cell_type": "code",
   "execution_count": null,
   "metadata": {
    "collapsed": true
   },
   "outputs": [],
   "source": []
  },
  {
   "cell_type": "code",
   "execution_count": null,
   "metadata": {
    "collapsed": false
   },
   "outputs": [],
   "source": [
    "\n",
    "t = sym.symbols('t')\n",
    "\n",
    "f = sym.sin(2.*sym.pi*t)\n",
    "\n",
    "\n",
    "compute_error_estimate(f,20,1025,0,1)\n",
    "\n",
    "f = 1/(1+t*t)\n",
    "compute_error_estimate(f,20,1025,-8,8)"
   ]
  },
  {
   "cell_type": "code",
   "execution_count": null,
   "metadata": {
    "collapsed": true
   },
   "outputs": [],
   "source": []
  }
 ],
 "metadata": {
  "kernelspec": {
   "display_name": "Python 2",
   "language": "python",
   "name": "python2"
  },
  "language_info": {
   "codemirror_mode": {
    "name": "ipython",
    "version": 2
   },
   "file_extension": ".py",
   "mimetype": "text/x-python",
   "name": "python",
   "nbconvert_exporter": "python",
   "pygments_lexer": "ipython2",
   "version": "2.7.10"
  }
 },
 "nbformat": 4,
 "nbformat_minor": 1
}
