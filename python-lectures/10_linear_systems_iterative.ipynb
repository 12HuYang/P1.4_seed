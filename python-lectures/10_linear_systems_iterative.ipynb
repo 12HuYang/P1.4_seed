{
 "cells": [
  {
   "cell_type": "markdown",
   "metadata": {},
   "source": [
    "# Iterative methods for solving linear systems\n",
    "\n",
    "\n"
   ]
  },
  {
   "cell_type": "markdown",
   "metadata": {},
   "source": [
    "Let us consider an elastic cable fixed at the extremes occupying at rest the space $[0,1]$. We apply on it a given force $f(x)$. Its displacement at the point $x$, $u(x)$ is the solution of the following problem:\n",
    "$$\n",
    "-u_h''(x) = f(x)\\ \\mathrm{ in }\\ [0,1]\n",
    "$$\n",
    "\n",
    "$$\n",
    "u_h(0) = 0, \\quad u_h(1) = 0\n",
    "$$\n",
    "\n",
    "For the sake of simplicity we consider a uniform discretisation of the interval $[0,1]$ using $n$ equispaced *sample points* to construct a **Finite Difference Approximation**."
   ]
  },
  {
   "cell_type": "code",
   "execution_count": 14,
   "metadata": {
    "collapsed": false
   },
   "outputs": [],
   "source": [
    "%matplotlib inline\n",
    "from numpy import *\n",
    "from matplotlib.pyplot import *\n",
    "import numpy.linalg\n",
    "\n",
    "n = 1000\n",
    "h = 1./(n-1)\n",
    "\n",
    "x=linspace(0,1,n)"
   ]
  },
  {
   "cell_type": "markdown",
   "metadata": {},
   "source": [
    "# Central finite difference approximation\n",
    "\n",
    "We consider the approximation\n",
    "\n",
    "$$\n",
    "-u''_i := \\frac{-u_{i-1} + 2u_i - u_{i+1}}{h^2}\n",
    "$$\n",
    "\n",
    "and solve the linear system\n",
    "\n",
    "$$\n",
    "\\frac{-u_{i-1} + 2u_i - u_{i+1}}{h^2} = f_i \\qquad i=1,\\ldots,n-2\n",
    "$$\n",
    "\n",
    "This results in a tridiagonal matrix with $n-2$ entries. We assemble all of the entries anyway, and then perform a **line elimination** to make the system solvable. This is typical of problems with **Dirichlet Boundary conditions**."
   ]
  },
  {
   "cell_type": "code",
   "execution_count": 15,
   "metadata": {
    "collapsed": false,
    "scrolled": true
   },
   "outputs": [
    {
     "name": "stdout",
     "output_type": "stream",
     "text": [
      "[[ 2. -1.  0. ...,  0.  0.  0.]\n",
      " [-1.  2. -1. ...,  0.  0.  0.]\n",
      " [ 0. -1.  2. ...,  0.  0.  0.]\n",
      " ..., \n",
      " [ 0.  0.  0. ...,  2. -1.  0.]\n",
      " [ 0.  0.  0. ..., -1.  2. -1.]\n",
      " [ 0.  0.  0. ...,  0. -1.  2.]]\n",
      "406095.042648\n"
     ]
    }
   ],
   "source": [
    "a = -ones((n-1,)) # Offdiagonal entries\n",
    "b = 2*ones((n,)) # Diagonal entries\n",
    "A = (diag(a, -1) + diag(b, 0) + diag(a, +1))\n",
    "print(A)\n",
    "\n",
    "# Now we scale it to 1/h^2\n",
    "A /= h**2\n",
    "\n",
    "print(linalg.cond(A))"
   ]
  },
  {
   "cell_type": "markdown",
   "metadata": {},
   "source": [
    "Now let's consider a simple right hand side:\n",
    "\n",
    "$$\n",
    "f_i = x_i(1-x_i)\n",
    "$$\n",
    "which gives as exact solution\n",
    "\n",
    "$$\n",
    "u_{\\mathrm{exact}} = \\frac{x^4}{12} - \\frac{x^3}{6} +\\frac{x}{12}\n",
    "$$\n"
   ]
  },
  {
   "cell_type": "code",
   "execution_count": 16,
   "metadata": {
    "collapsed": false,
    "scrolled": true
   },
   "outputs": [
    {
     "data": {
      "image/png": "[encoded data removed]",
      "text/plain": [
       "<matplotlib.figure.Figure at 0x7f8aacb98cd0>"
      ]
     },
     "metadata": {},
     "output_type": "display_data"
    }
   ],
   "source": [
    "f =x*(1.-x)\n",
    "\n",
    "# Imposing homogeneous BCs keeping A SPD\n",
    "A[0,:] = 0\n",
    "A[:,0] = 0\n",
    "A[0,0] = 1.\n",
    "\n",
    "A[:,-1] = 0\n",
    "A[-1,:] = 0\n",
    "A[-1,-1] = 1\n",
    "\n",
    "f[0] = 0\n",
    "f[-1] = 0\n",
    "\n",
    "A1 = A.copy()\n",
    "\n",
    "u = linalg.solve(A1, f)\n",
    "\n",
    "u_ex = (x**4)/12. - (x**3)/6. + x/12.\n",
    "\n",
    "_ = plot(x,u,'ro')\n",
    "_ = plot(x,u_ex)\n"
   ]
  },
  {
   "cell_type": "markdown",
   "metadata": {},
   "source": [
    "## Jacobi\n",
    "\n",
    "$$ \n",
    "x_i^{k+1} = \\frac{1}{A_{ii}} \\times \\left(b_i - \\sum_{j\\neq i} a_{ij}x_j^k\\right)\n",
    "$$\n",
    "\n"
   ]
  },
  {
   "cell_type": "code",
   "execution_count": 17,
   "metadata": {
    "collapsed": false,
    "scrolled": true
   },
   "outputs": [
    {
     "ename": "KeyboardInterrupt",
     "evalue": "",
     "output_type": "error",
     "traceback": [
      "\u001b[0;31m---------------------------------------------------------------------------\u001b[0m",
      "\u001b[0;31mKeyboardInterrupt\u001b[0m                         Traceback (most recent call last)",
      "\u001b[0;32m<ipython-input-17-636e8a07824a>\u001b[0m in \u001b[0;36m<module>\u001b[0;34m()\u001b[0m\n\u001b[1;32m     18\u001b[0m     \u001b[0;32mreturn\u001b[0m \u001b[0mx\u001b[0m\u001b[0;34m\u001b[0m\u001b[0m\n\u001b[1;32m     19\u001b[0m \u001b[0;34m\u001b[0m\u001b[0m\n\u001b[0;32m---> 20\u001b[0;31m \u001b[0msol_jacobi\u001b[0m \u001b[0;34m=\u001b[0m \u001b[0mjacobi\u001b[0m\u001b[0;34m(\u001b[0m\u001b[0mA\u001b[0m\u001b[0;34m,\u001b[0m\u001b[0mf\u001b[0m\u001b[0;34m)\u001b[0m\u001b[0;34m\u001b[0m\u001b[0m\n\u001b[0m\u001b[1;32m     21\u001b[0m \u001b[0;34m\u001b[0m\u001b[0m\n\u001b[1;32m     22\u001b[0m \u001b[0;34m\u001b[0m\u001b[0m\n",
      "\u001b[0;32m<ipython-input-17-636e8a07824a>\u001b[0m in \u001b[0;36mjacobi\u001b[0;34m(A, b, nmax, eps)\u001b[0m\n\u001b[1;32m      8\u001b[0m         \u001b[0mit\u001b[0m \u001b[0;34m+=\u001b[0m \u001b[0;36m1\u001b[0m\u001b[0;34m\u001b[0m\u001b[0m\n\u001b[1;32m      9\u001b[0m         \u001b[0;32mfor\u001b[0m \u001b[0mi\u001b[0m \u001b[0;32min\u001b[0m \u001b[0mrange\u001b[0m\u001b[0;34m(\u001b[0m\u001b[0mN\u001b[0m\u001b[0;34m)\u001b[0m\u001b[0;34m:\u001b[0m\u001b[0;34m\u001b[0m\u001b[0m\n\u001b[0;32m---> 10\u001b[0;31m             \u001b[0mx\u001b[0m\u001b[0;34m[\u001b[0m\u001b[0mi\u001b[0m\u001b[0;34m]\u001b[0m \u001b[0;34m=\u001b[0m \u001b[0;36m1.\u001b[0m\u001b[0;34m/\u001b[0m\u001b[0mA\u001b[0m\u001b[0;34m[\u001b[0m\u001b[0mi\u001b[0m\u001b[0;34m,\u001b[0m\u001b[0mi\u001b[0m\u001b[0;34m]\u001b[0m\u001b[0;34m*\u001b[0m\u001b[0;34m(\u001b[0m\u001b[0mb\u001b[0m\u001b[0;34m[\u001b[0m\u001b[0mi\u001b[0m\u001b[0;34m]\u001b[0m \u001b[0;34m-\u001b[0m \u001b[0mdot\u001b[0m\u001b[0;34m(\u001b[0m\u001b[0mA\u001b[0m\u001b[0;34m[\u001b[0m\u001b[0mi\u001b[0m\u001b[0;34m,\u001b[0m\u001b[0;36m0\u001b[0m\u001b[0;34m:\u001b[0m\u001b[0mi\u001b[0m\u001b[0;34m]\u001b[0m\u001b[0;34m,\u001b[0m\u001b[0mx_old\u001b[0m\u001b[0;34m[\u001b[0m\u001b[0;36m0\u001b[0m\u001b[0;34m:\u001b[0m\u001b[0mi\u001b[0m\u001b[0;34m]\u001b[0m\u001b[0;34m)\u001b[0m \u001b[0;34m-\u001b[0m \u001b[0mdot\u001b[0m\u001b[0;34m(\u001b[0m\u001b[0mA\u001b[0m\u001b[0;34m[\u001b[0m\u001b[0mi\u001b[0m\u001b[0;34m,\u001b[0m\u001b[0mi\u001b[0m\u001b[0;34m+\u001b[0m\u001b[0;36m1\u001b[0m\u001b[0;34m:\u001b[0m\u001b[0mN\u001b[0m\u001b[0;34m]\u001b[0m\u001b[0;34m,\u001b[0m\u001b[0mx_old\u001b[0m\u001b[0;34m[\u001b[0m\u001b[0mi\u001b[0m\u001b[0;34m+\u001b[0m\u001b[0;36m1\u001b[0m\u001b[0;34m:\u001b[0m\u001b[0mN\u001b[0m\u001b[0;34m]\u001b[0m\u001b[0;34m)\u001b[0m\u001b[0;34m)\u001b[0m\u001b[0;34m\u001b[0m\u001b[0m\n\u001b[0m\u001b[1;32m     11\u001b[0m \u001b[0;34m\u001b[0m\u001b[0m\n\u001b[1;32m     12\u001b[0m         \u001b[0mres\u001b[0m \u001b[0;34m=\u001b[0m \u001b[0mb\u001b[0m \u001b[0;34m-\u001b[0m \u001b[0mdot\u001b[0m\u001b[0;34m(\u001b[0m\u001b[0mA\u001b[0m\u001b[0;34m,\u001b[0m\u001b[0mx\u001b[0m\u001b[0;34m)\u001b[0m\u001b[0;34m\u001b[0m\u001b[0m\n",
      "\u001b[0;31mKeyboardInterrupt\u001b[0m: "
     ]
    }
   ],
   "source": [
    "def jacobi(A,b,nmax=10000, eps=1e-10):\n",
    "    N=len(A)\n",
    "    x = zeros_like(b)\n",
    "    x_old = zeros_like(b)\n",
    "    tol = eps+1\n",
    "    it = 0\n",
    "    while (it<nmax and tol>eps):\n",
    "        it += 1\n",
    "        for i in range(N):\n",
    "            x[i] = 1./A[i,i]*(b[i] - dot(A[i,0:i],x_old[0:i]) - dot(A[i,i+1:N],x_old[i+1:N]))\n",
    "            \n",
    "        res = b - dot(A,x)\n",
    "        tol = numpy.linalg.norm(res,2)\n",
    "        \n",
    "        x_old = x.copy()\n",
    "    \n",
    "    print it, tol\n",
    "    return x\n",
    "\n",
    "sol_jacobi = jacobi(A,f)\n",
    "    \n",
    "\n"
   ]
  },
  {
   "cell_type": "markdown",
   "metadata": {},
   "source": [
    "## Gauss-Seidel\n",
    "\n",
    "$$ \n",
    "x_i^{k+1} = \\frac{1}{A_{ii}} \\times \\left(b_i - \\sum_{j=0}^{i-1} a_{ij}x_j^{k+1} - \\sum_{j=i+1}^{N} a_{ij}x_j^k\\right)\n",
    "$$"
   ]
  },
  {
   "cell_type": "code",
   "execution_count": 6,
   "metadata": {
    "collapsed": false
   },
   "outputs": [
    {
     "name": "stdout",
     "output_type": "stream",
     "text": [
      "2390 9.9530299764e-11\n"
     ]
    }
   ],
   "source": [
    "def GS(A,b,nmax=10000, eps=1e-10):\n",
    "    N=len(A)\n",
    "    x = zeros_like(b)\n",
    "    x_old = zeros_like(b)\n",
    "    tol = eps+1\n",
    "    it = 0\n",
    "    while (it<nmax and tol>eps):\n",
    "        it += 1\n",
    "        for i in range(N):\n",
    "            x[i] = 1./A[i,i]*(b[i] - dot(A[i,0:i],x[0:i]) - dot(A[i,i+1:N],x_old[i+1:N]))\n",
    "            \n",
    "        res = b - dot(A,x)\n",
    "        tol = numpy.linalg.norm(res,2)\n",
    "        \n",
    "        x_old = x.copy()\n",
    "    \n",
    "    print it, tol\n",
    "    return x\n",
    "\n",
    "sol_gs = GS(A,f)\n",
    "    \n"
   ]
  },
  {
   "cell_type": "markdown",
   "metadata": {
    "collapsed": true
   },
   "source": [
    "   ## Gradient method\n",
    "   $$\n",
    "   {\\bf r}^k = {\\bf b} - A {\\bf x}^k\n",
    "   $$\n",
    "   \n",
    "   $$\n",
    "   \\alpha^k = \\frac{{\\bf r}^{k^{T}} {\\bf r}^k}{{\\bf r}^{k^{T}} A{\\bf r}^k}\n",
    "   $$\n",
    "   \n",
    "   $$\n",
    "   {\\bf x}^{k+1} = {\\bf x}^k + \\alpha^k {\\bf r}^k\n",
    "   $$\n",
    "   \n",
    "   ### preconditioned\n",
    "   solve\n",
    "   $$\n",
    "   P{\\bf z}^k =  {\\bf r}^k\n",
    "   $$\n",
    "   \n",
    "   $$\n",
    "   \\alpha^k = \\frac{{\\bf z}^{k^{T}} {\\bf r}^k}{{\\bf z}^{k^{T}} A{\\bf z}^k}\n",
    "   $$\n",
    " \n",
    "   $$\n",
    "   {\\bf x}^{k+1} = {\\bf x}^k + \\alpha^k {\\bf z}^k\n",
    "   $$ \n",
    "   \n",
    "   $$\n",
    "   {\\bf r}^{k+1} = {\\bf r}^k  - \\alpha^k A{\\bf z}^k\n",
    "   $$"
   ]
  },
  {
   "cell_type": "code",
   "execution_count": 9,
   "metadata": {
    "collapsed": false
   },
   "outputs": [
    {
     "name": "stdout",
     "output_type": "stream",
     "text": [
      "3909 9.94753934189e-11\n",
      "\n",
      "1 1.20640538134e-14\n"
     ]
    }
   ],
   "source": [
    "def gradient(A,b,P,nmax=8000, eps=1e-10):\n",
    "    n=len(A)\n",
    "    x= zeros_like(b)\n",
    "    tol = eps +1\n",
    "    r = b - dot(A,x)\n",
    "    it = 0\n",
    "    while (it<nmax and tol>eps):\n",
    "        z = linalg.solve(P,r)\n",
    "        alpha = dot(r,z)/(dot(z,dot(A,z)))\n",
    "        x += z*alpha\n",
    "        r -= dot(A,z)*alpha\n",
    "        tol = numpy.linalg.norm(r,2)\n",
    "        it += 1\n",
    "    print it, tol\n",
    "    \n",
    "gradient(A,f,identity(len(A)))\n",
    "print \"\"\n",
    "gradient(A,f,A)\n"
   ]
  },
  {
   "cell_type": "markdown",
   "metadata": {},
   "source": [
    "## Coniugate gradient\n",
    "   \n",
    "   $$\n",
    "   \\alpha^k = \\frac{{\\bf p}^{k^{T}} {\\bf r}^k}{{\\bf p}^{k^{T}} A{\\bf p}^k}\n",
    "   $$\n",
    "   \n",
    "      \n",
    "   $$\n",
    "   {\\bf x}^{k+1} = {\\bf x}^k + \\alpha^k {\\bf p}^k\n",
    "   $$\n",
    "   \n",
    "   $$\n",
    "   {\\bf r}^{k+1} = {\\bf r}^k - \\alpha^kA {\\bf p}^k\n",
    "   $$\n",
    "\n",
    "   $$\n",
    "   \\beta^k = \\frac{(A{\\bf p}^{k})^{T}{\\bf r}^{k+1}}{(A{\\bf p}^{k})^{T}  {\\bf p}^k}\n",
    "   $$\n",
    "   \n",
    "   $$\n",
    "   {\\bf p}^{k+1} = {\\bf r}^{k+1} - \\beta^k{\\bf p}^k\n",
    "   $$\n",
    "\n",
    "   \n",
    "   ### preconditioned\n",
    "   \n",
    "   \n",
    "   $$\n",
    "   \\alpha^k = \\frac{{\\bf p}^{k^{T}} {\\bf r}^k}{(A{\\bf p}^{k})^{T}{\\bf p}^k}\n",
    "   $$\n",
    "   \n",
    "      \n",
    "   $$\n",
    "   {\\bf x}^{k+1} = {\\bf x}^k + \\alpha^k {\\bf p}^k\n",
    "   $$\n",
    "   \n",
    "   $$\n",
    "   {\\bf r}^{k+1} = {\\bf r}^k - \\alpha^kA {\\bf p}^k\n",
    "   $$\n",
    "\n",
    "$$\n",
    "P{\\bf z}^{k+1} = {\\bf r}^{k+1}\n",
    "$$\n",
    "\n",
    "   $$\n",
    "   \\beta^k = \\frac{(A{\\bf p}^{k})^{T}{\\bf z}^{k+1}}{{\\bf p}^{k^T}A  {\\bf p}^k}\n",
    "   $$\n",
    "   \n",
    "   $$\n",
    "   {\\bf p}^{k+1} = {\\bf z}^{k+1} - \\beta^k{\\bf p}^k\n",
    "   $$\n"
   ]
  },
  {
   "cell_type": "code",
   "execution_count": 19,
   "metadata": {
    "collapsed": false
   },
   "outputs": [
    {
     "name": "stdout",
     "output_type": "stream",
     "text": [
      "499 7.87545261274e-15\n"
     ]
    }
   ],
   "source": [
    "def CG(A,b,P, nmax=len(A), eps=1e-10):\n",
    "    N=len(A)\n",
    "    x = zeros_like(b)\n",
    "    tol = eps + 1\n",
    "    it = 0\n",
    "    r = b - dot(A,x)\n",
    "    rho_old = 1.\n",
    "    p_old = zeros_like(b)\n",
    "    while (it < nmax and tol > eps):\n",
    "        it += 1\n",
    "        z = linalg.solve(P,r)\n",
    "        rho = dot(r,z)\n",
    "        if (it > 1):\n",
    "            beta = rho/rho_old\n",
    "            p = z + beta*p_old\n",
    "        else:\n",
    "            p = z\n",
    "        q = dot(A,p)\n",
    "        alpha = rho/(dot(p,q))\n",
    "        x += p*alpha\n",
    "        r -= q*alpha\n",
    "        \n",
    "        p_old = p\n",
    "        rho_old = rho\n",
    "        \n",
    "        tol = numpy.linalg.norm(r,2)\n",
    "        \n",
    "    print it, tol\n",
    "\n",
    "CG(A,f,diag(diag(A)))"
   ]
  },
  {
   "cell_type": "markdown",
   "metadata": {},
   "source": [
    "## compare the performances of the methods"
   ]
  },
  {
   "cell_type": "code",
   "execution_count": null,
   "metadata": {
    "collapsed": true
   },
   "outputs": [],
   "source": []
  },
  {
   "cell_type": "code",
   "execution_count": null,
   "metadata": {
    "collapsed": true
   },
   "outputs": [],
   "source": []
  }
 ],
 "metadata": {
  "anaconda-cloud": {},
  "kernelspec": {
   "display_name": "Python 2",
   "language": "python",
   "name": "python2"
  },
  "language_info": {
   "codemirror_mode": {
    "name": "ipython",
    "version": 2
   },
   "file_extension": ".py",
   "mimetype": "text/x-python",
   "name": "python",
   "nbconvert_exporter": "python",
   "pygments_lexer": "ipython2",
   "version": "2.7.10"
  }
 },
 "nbformat": 4,
 "nbformat_minor": 1
}
