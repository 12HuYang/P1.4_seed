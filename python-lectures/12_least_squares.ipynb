{
 "cells": [
  {
   "cell_type": "markdown",
   "metadata": {},
   "source": [
    "# Linear least squares method\n",
    "\n"
   ]
  },
  {
   "cell_type": "code",
   "execution_count": 21,
   "metadata": {
    "collapsed": false
   },
   "outputs": [
    {
     "name": "stdout",
     "output_type": "stream",
     "text": [
      "[[  1.   1.   1.]\n",
      " [  1.   2.   4.]\n",
      " [  1.   3.   9.]\n",
      " [  1.   4.  16.]\n",
      " [  1.   5.  25.]]\n",
      "[[ 8.2       ]\n",
      " [-3.27142857]\n",
      " [ 0.92857143]]\n"
     ]
    },
    {
     "data": {
      "image/png": "[encoded data removed]",
      "text/plain": [
       "<matplotlib.figure.Figure at 0x7ffb7d45dd90>"
      ]
     },
     "metadata": {},
     "output_type": "display_data"
    }
   ],
   "source": [
    "%matplotlib inline\n",
    "from numpy import *\n",
    "from matplotlib.pyplot import *\n",
    "import scipy.linalg\n",
    "\n",
    "input = array([\n",
    "    [1, 6],\n",
    "    [2, 5],\n",
    "    [3, 7],\n",
    "    [4, 10],\n",
    "    [5, 15]\n",
    "])\n",
    "\n",
    "n = shape(input)[0]\n",
    "B = matrix([ones(n),input[:,0]]) \n",
    "B = vstack([B, input[:,0]**2]).T\n",
    "print B\n",
    "\n",
    "y = matrix(input[:,1]).T\n",
    "#print y\n",
    "\n",
    "a = scipy.linalg.solve(dot(B.T, B), dot(B.T,y))\n",
    "\n",
    "print a\n",
    "\n",
    "xx = linspace(0,6,100)\n",
    "f = lambda x: a[0] + a[1]*x + a[2]*x**2\n",
    "\n",
    "_ = plot(xx, f(xx))\n",
    "_ = scatter(input[:,0], input[:,1], color='r')"
   ]
  },
  {
   "cell_type": "code",
   "execution_count": null,
   "metadata": {
    "collapsed": true
   },
   "outputs": [],
   "source": []
  }
 ],
 "metadata": {
  "anaconda-cloud": {},
  "kernelspec": {
   "display_name": "Python 2",
   "language": "python",
   "name": "python2"
  },
  "language_info": {
   "codemirror_mode": {
    "name": "ipython",
    "version": 2
   },
   "file_extension": ".py",
   "mimetype": "text/x-python",
   "name": "python",
   "nbconvert_exporter": "python",
   "pygments_lexer": "ipython2",
   "version": "2.7.10"
  }
 },
 "nbformat": 4,
 "nbformat_minor": 1
}
