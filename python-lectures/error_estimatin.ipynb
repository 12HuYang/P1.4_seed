{
 "cells": [
  {
   "cell_type": "code",
   "execution_count": 2,
   "metadata": {
    "collapsed": true
   },
   "outputs": [],
   "source": [
    "%matplotlib inline\n",
    "import numpy as np\n",
    "import matplotlib.pyplot as plt\n",
    "import numpy.polynomial.polynomial as poly"
   ]
  },
  {
   "cell_type": "markdown",
   "metadata": {},
   "source": [
    "Constructing a function $f(x)$"
   ]
  },
  {
   "cell_type": "code",
   "execution_count": 3,
   "metadata": {
    "collapsed": false
   },
   "outputs": [
    {
     "name": "stdout",
     "output_type": "stream",
     "text": [
      "16\n"
     ]
    }
   ],
   "source": [
    "f = lambda x : x**2\n",
    "print f(4)"
   ]
  },
  {
   "cell_type": "markdown",
   "metadata": {},
   "source": [
    "Construct the dual $f^*$ of $f$. The dual of a function it is a \"something\" a point that given a function returnes a value."
   ]
  },
  {
   "cell_type": "code",
   "execution_count": 4,
   "metadata": {
    "collapsed": false
   },
   "outputs": [
    {
     "name": "stdout",
     "output_type": "stream",
     "text": [
      "16.0\n"
     ]
    }
   ],
   "source": [
    "x = lambda f: f(4.)\n",
    "g = lambda x: x**2\n",
    "print x(g)"
   ]
  },
  {
   "cell_type": "code",
   "execution_count": null,
   "metadata": {
    "collapsed": true
   },
   "outputs": [],
   "source": []
  },
  {
   "cell_type": "markdown",
   "metadata": {},
   "source": [
    "Construct a set of this special points, that given a function return a value, we call this set $\\hat N$ (the **set of nodal functions**, that are a basis for the dual space of $\\hat{\\mathcal{P}}^k([0,1])$). "
   ]
  },
  {
   "cell_type": "code",
   "execution_count": 5,
   "metadata": {
    "collapsed": true
   },
   "outputs": [],
   "source": [
    "def construct_dual_basis():\n",
    "    N = []\n",
    "    N.append(lambda f: f(0.))\n",
    "    #N.append(lambda f: f(1./3))\n",
    "    #N.append(lambda f: f(.5))\n",
    "    #N.append(lambda f: f(2./3))\n",
    "    N.append(lambda f: f(1.))\n",
    "    return N"
   ]
  },
  {
   "cell_type": "code",
   "execution_count": 6,
   "metadata": {
    "collapsed": false
   },
   "outputs": [
    {
     "name": "stdout",
     "output_type": "stream",
     "text": [
      "[<function <lambda> at 0x109e8eaa0>, <function <lambda> at 0x109e8ecf8>]\n",
      "0.0\n",
      "1.0\n"
     ]
    }
   ],
   "source": [
    "p = lambda p : p(0)\n",
    "f = lambda x : x\n",
    "\n",
    "Nk = construct_dual_basis()\n",
    "\n",
    "print Nk\n",
    "print Nk[0](f)\n",
    "print Nk[1](f)"
   ]
  },
  {
   "cell_type": "markdown",
   "metadata": {},
   "source": [
    "$\\mathcal{P}^k([0,1]) = \\textrm{span}\\{e_i\\}_{i=0}^k =: \\textrm{span} E$\n",
    "As we are free to choose our polinomials, we pick them in their simplest possible form, monomials:\n",
    "$$\n",
    "e_i = \\mathrm{pow}(x,i)\n",
    "$$"
   ]
  },
  {
   "cell_type": "code",
   "execution_count": 7,
   "metadata": {
    "collapsed": true
   },
   "outputs": [],
   "source": [
    "def construct_poly(deg):\n",
    "    E = []\n",
    "    for i in range(deg+1):\n",
    "        c = np.zeros((i+1,))\n",
    "        c[-1] = 1\n",
    "        E.append(poly.Polynomial(c))\n",
    "    return E"
   ]
  },
  {
   "cell_type": "code",
   "execution_count": 8,
   "metadata": {
    "collapsed": true
   },
   "outputs": [],
   "source": [
    "deg = 1"
   ]
  },
  {
   "cell_type": "code",
   "execution_count": 9,
   "metadata": {
    "collapsed": false
   },
   "outputs": [
    {
     "name": "stdout",
     "output_type": "stream",
     "text": [
      "[Polynomial([ 1.], [-1.,  1.], [-1.,  1.]), Polynomial([ 0.,  1.], [-1.,  1.], [-1.,  1.])]\n"
     ]
    }
   ],
   "source": [
    "Tk = np.array([0,1])\n",
    "Nk = construct_dual_basis()\n",
    "Pk = construct_poly(deg)\n",
    "print Pk"
   ]
  },
  {
   "cell_type": "markdown",
   "metadata": {},
   "source": [
    "We construct basis functions $v_i$ asking them to be those particular polynomials orthogonal to the degrees of freedom $v^j$. In a compact way this means:\n",
    "\n",
    "$$\n",
    "v^j\\, v_i = \\delta^j_i\n",
    "$$\n",
    "\n",
    "$v^j$ are a special kind of points that given a function the do return a value. We can write this value for the $k$-th polynomial:\n",
    "\n",
    "$v^j(e_k)$, and introduce the matrix $C_k^j$. This matrix clarifies the way canonical basis functions are related with the degrees of freedom:\n",
    "\n",
    "\n",
    "$$\n",
    "v^j\\, v_i = \\delta^j_i, \\quad v^j(e_k)\\, v^k_i = \\delta^j_i, \\quad C^j_k\\, v^k_i = \\delta^j_i\n",
    "$$\n",
    "\n",
    "Reading the last formula we get an easy way to construct the basis functions:\n",
    "\n",
    "$$\n",
    "v^k_i = (C^j_k)^{-1}\\delta^j_i\n",
    "$$\n",
    "\n",
    "In practice these $v^k_i$ are the cofficents for the polynomials that are going to become the basis for our space.  "
   ]
  },
  {
   "cell_type": "code",
   "execution_count": 10,
   "metadata": {
    "collapsed": true
   },
   "outputs": [],
   "source": [
    "def construct_cij(N,P):\n",
    "    C = np.zeros((0,len(N))) # Matrix for the change of variables\n",
    "    for dof in N:\n",
    "        row = np.array([])\n",
    "        for p in P:\n",
    "            row = np.hstack((row,[dof(p)]))\n",
    "        C = np.vstack((C,row))\n",
    "    return C"
   ]
  },
  {
   "cell_type": "code",
   "execution_count": 11,
   "metadata": {
    "collapsed": true
   },
   "outputs": [],
   "source": [
    "def construct_canonical_basis(C):\n",
    "    V = []\n",
    "    for k in range(C.shape[0]):\n",
    "        delta_ij = np.zeros((C.shape[0],))\n",
    "        delta_ij[k] = 1. # delta_ik\n",
    "        vk = np.linalg.solve(C, delta_ij)\n",
    "        V.append(poly.Polynomial(vk)) # Construct the basis using the right coefficients of the polynomials\n",
    "    return V"
   ]
  },
  {
   "cell_type": "code",
   "execution_count": 12,
   "metadata": {
    "collapsed": false
   },
   "outputs": [
    {
     "data": {
      "image/png": "[encoded data removed]",
      "text/plain": [
       "<matplotlib.figure.Figure at 0x107f6fc90>"
      ]
     },
     "metadata": {},
     "output_type": "display_data"
    }
   ],
   "source": [
    "C = construct_cij(Nk,Pk)\n",
    "\n",
    "V = construct_canonical_basis(C)\n",
    "\n",
    "s = np.linspace(0,1,1025)\n",
    "for v in V:\n",
    "    plt.plot(s, v(s))\n",
    "plt.show()"
   ]
  },
  {
   "cell_type": "code",
   "execution_count": 13,
   "metadata": {
    "collapsed": true
   },
   "outputs": [],
   "source": [
    "from numpy.polynomial.legendre import leggauss\n",
    "\n",
    "def apply_matrx_bc(A):\n",
    "    ck = A[0,0]\n",
    "    A[0] = 0\n",
    "    A[0,0] = ck\n",
    "    \n",
    "    ck = A[-1,-1]\n",
    "    A[-1] = 0\n",
    "    A[-1,-1] = ck\n",
    "    \n",
    "def apply_rhs_bc(rhs):\n",
    "    rhs[0] = 0\n",
    "    rhs[-1] = 0\n",
    "\n",
    "def assemble_system(x,V,myf):\n",
    "    \n",
    "    h = 1./(len(x)-1)\n",
    "\n",
    "    degree = 2*len(V)-1\n",
    "    q,w = leggauss(degree) # Gauss between -1 and 1\n",
    "    q = (q+1)/2 # Go back to 0,1 \n",
    "    w = w/2\n",
    "    \n",
    "    Vq = np.zeros((len(V), len(q)))\n",
    "    Vpq = np.zeros((len(V), len(q)))\n",
    "\n",
    "    for i in range(len(V)):\n",
    "        Vq[i] = V[i](q)\n",
    "        Vpq[i] = V[i].deriv()(q)\n",
    "\n",
    "    n_dofs = (len(x)-1)*(len(V)-1)+1\n",
    "\n",
    "    A = np.zeros((n_dofs, n_dofs))\n",
    "    M = np.zeros((n_dofs, n_dofs))\n",
    "    rhs = np.zeros((n_dofs,))\n",
    "\n",
    "    # Construct the local matrix only once:\n",
    "    local_A = np.einsum('jq, iq, q -> ij', Vpq/h, Vpq/h, w*h)\n",
    "    local_M = np.einsum('jq, iq, q -> ij', Vq, Vq, w*h)\n",
    "\n",
    "    for i in range(len(x)-1):\n",
    "        start = i*(len(V)-1)\n",
    "        end = start+len(V)\n",
    "\n",
    "        index = range(start, end)\n",
    "        A[np.ix_(index, index)] += local_A\n",
    "        M[np.ix_(index, index)] += local_M\n",
    "\n",
    "        # The transformation of the quadrature points\n",
    "        xq = x[i]+h*q\n",
    "        local_rhs = np.einsum('iq, q, q -> i', Vq, w*h, myf(xq))\n",
    "\n",
    "        rhs[index] += local_rhs\n",
    "\n",
    "    # Fix the boundary conditions\n",
    "    apply_matrx_bc(A)\n",
    "    apply_matrx_bc(M)\n",
    "    apply_rhs_bc(rhs)\n",
    "    #ck = A[0,0]\n",
    "    #A[0] = 0\n",
    "    #A[0,0] = ck\n",
    "    #rhs[0] = 0\n",
    "\n",
    "    \n",
    "    #ck = A[-1,-1]\n",
    "    #A[-1] = 0\n",
    "    #A[-1,-1] = ck\n",
    "    #rhs[-1] = 0        \n",
    "\n",
    "    return A,M,rhs"
   ]
  },
  {
   "cell_type": "code",
   "execution_count": 21,
   "metadata": {
    "collapsed": true
   },
   "outputs": [],
   "source": [
    "def evaluate_l2_error(x,V,u,exact_sol):\n",
    "    h = 1./(len(x)-1)\n",
    "\n",
    "    degree = 4*(2*len(V)-1)\n",
    "    q,w = leggauss(degree) # Gauss between -1 and 1\n",
    "    q = (q+1)/2 # Go back to 0,1 \n",
    "    w = w/2\n",
    "    \n",
    "    Vq = np.zeros((len(V), len(q)))\n",
    "    \n",
    "    for i in range(len(V)):\n",
    "        Vq[i] = V[i](q)\n",
    "        \n",
    "        \n",
    "    error = 0.\n",
    "    \n",
    "    for i in range(len(x)-1):\n",
    "        start = i*(len(V)-1)\n",
    "        end = start+len(V)\n",
    "\n",
    "        index = range(start, end)\n",
    "        xq = x[i]+h*q\n",
    "\n",
    "        fem_sol_k = np.einsum('i,iq -> q', u[index],Vq)\n",
    "        exact_sol_k = exact_sol(xq)\n",
    "        \n",
    "        sq_error = (np.abs(exact_sol_k-fem_sol_k))**2. \n",
    "        \n",
    "        error += np.sum(sq_error*w)#np.einsum('i,i', sq_error,w)\n",
    "\n",
    "    return np.sqrt(error)\n",
    "\n",
    "def evaluate_h1_error(x,V,u,exact_sol_der):\n",
    "    h = 1./(len(x)-1)\n",
    "\n",
    "    degree = 4*(2*len(V)-1)\n",
    "    q,w = leggauss(degree) # Gauss between -1 and 1\n",
    "    q = (q+1)/2 # Go back to 0,1 \n",
    "    w = w/2\n",
    "    \n",
    "    Vq = np.zeros((len(V), len(q)))\n",
    "    Vpq = np.zeros((len(V), len(q)))\n",
    "    \n",
    "    for i in range(len(V)):\n",
    "        Vq[i] = V[i](q)\n",
    "        Vpq[i] = V[i].deriv()(q)\n",
    "        \n",
    "    error = 0.\n",
    "    \n",
    "    for i in range(len(x)-1):\n",
    "        start = i*(len(V)-1)\n",
    "        end = start+len(V)\n",
    "\n",
    "        index = range(start, end)\n",
    "        xq = x[i]+h*q\n",
    "\n",
    "        fem_sol_k = np.einsum('i,iq -> q', u[index],Vpq/h)\n",
    "        exact_sol_k = exact_sol_der(xq)\n",
    "        \n",
    "        sq_error = (np.abs(exact_sol_k-fem_sol_k))**2. \n",
    "        \n",
    "        error += np.sum(sq_error*w)#np.einsum('i,i', sq_error,w)\n",
    "\n",
    "    return np.sqrt(error)"
   ]
  },
  {
   "cell_type": "code",
   "execution_count": 22,
   "metadata": {
    "collapsed": true
   },
   "outputs": [],
   "source": [
    "import sympy as sym\n",
    "t = sym.var('t')\n",
    "sol = sym.sin(sym.pi*t)#(t-1)*t**2#sym.sin(2*sym.pi*t)\n",
    "sol_der = sym.diff(sol,t,1)\n",
    "force = -1*sym.diff(sol,t,2)"
   ]
  },
  {
   "cell_type": "code",
   "execution_count": 23,
   "metadata": {
    "collapsed": false
   },
   "outputs": [
    {
     "name": "stdout",
     "output_type": "stream",
     "text": [
      "[ 1.48666736  1.49683989  1.49888679  1.49951063  1.49975188  1.49986098\n",
      "  1.49991612  1.49994642  1.49996418  1.49997515  1.49998223  1.49998693\n",
      "  1.49999021  1.49999252  1.49999412  1.49999544  1.49999626]\n",
      "[0.99701694976790611, 0.67017934751029662, 0.50333263389809024, 0.40281888279112871, 0.33572814610635443, 0.28778379212455169, 0.25181795720558053, 0.2238415614922227, 0.20145914232154247, 0.1831456297949321, 0.16788404839321541, 0.15497022763205862, 0.14390113826808681, 0.13430786774253262, 0.12591371909433249, 0.11850709378706339, 0.11192341140623892, 0.1060327378556721]\n",
      "[ 0.4898355   0.49758768  0.49915001  0.49962631  0.49981053  0.49989384\n",
      "  0.49993595  0.49995908  0.49997265  0.49998102  0.49998642  0.49999003\n",
      "  0.49999252  0.49999427  0.49999554  0.49999648  0.49999718]\n"
     ]
    }
   ],
   "source": [
    "dx = []\n",
    "l2_err = []\n",
    "h1_err = []\n",
    "\n",
    "exact_sol = sym.lambdify(t, sol, 'numpy')#lambda x: np.sin(2*np.pi*x)\n",
    "exact_sol_der = sym.lambdify(t, sol_der, 'numpy')\n",
    "myf = sym.lambdify(t, force, 'numpy')#lambda x: 4*np.pi**2*np.sin(2*np.pi*x)\n",
    "\n",
    "for n in range(2,20):\n",
    "    \n",
    "    n=n**2+1\n",
    "\n",
    "    x=np.linspace(0,1,n)\n",
    "\n",
    "    A2, M, rhs = assemble_system(x,V,myf)\n",
    "\n",
    "    # Solve the system\n",
    "    sys_m = A2\n",
    "    ufem = np.linalg.solve(sys_m, rhs)\n",
    "    \n",
    "    l2_err.append(evaluate_l2_error(x,V,ufem,exact_sol))\n",
    "    h1_err.append(evaluate_h1_error(x,V,ufem,exact_sol_der))\n",
    "    \n",
    "    dx.append(1./(len(x)-1)) \n",
    "\n",
    "#print l2_err\n",
    "#print dx\n",
    "print np.diff(np.log(l2_err))/np.diff(np.log(dx))\n",
    "print h1_err\n",
    "print np.diff(np.log(h1_err))/np.diff(np.log(dx))"
   ]
  },
  {
   "cell_type": "code",
   "execution_count": 24,
   "metadata": {
    "collapsed": false
   },
   "outputs": [
    {
     "data": {
      "text/plain": [
       "1.63733964"
      ]
     },
     "execution_count": 24,
     "metadata": {},
     "output_type": "execute_result"
    }
   ],
   "source": [
    "1.63733964"
   ]
  },
  {
   "cell_type": "code",
   "execution_count": 19,
   "metadata": {
    "collapsed": true
   },
   "outputs": [],
   "source": [
    "def interpolation_matrix(s, x, V):\n",
    "    \"\"\"\n",
    "    Given the evaluation points s in the mesh x, construct the interpolation matrix \n",
    "    according to the local basis V.\n",
    "    \"\"\"\n",
    "    n_dofs = (len(x)-1)*(len(V)-1)+1\n",
    "\n",
    "    M = np.zeros((n_dofs, len(s)))\n",
    "    for i in range(len(x)-1):\n",
    "        index = s>=x[i]\n",
    "        index *= s<=x[i+1]\n",
    "        \n",
    "        # Transform the points to [0,1]\n",
    "        xi = (s[index]-x[i])/(x[i+1]-x[i])\n",
    "        \n",
    "        for j in range(len(V)):\n",
    "            k = i*(len(v)-1)+j\n",
    "            M[k,index] = V[j](xi)\n",
    "    return M"
   ]
  },
  {
   "cell_type": "code",
   "execution_count": 20,
   "metadata": {
    "collapsed": false
   },
   "outputs": [
    {
     "name": "stdout",
     "output_type": "stream",
     "text": [
      "('Error at the s points:', 1.7601648974911697)\n",
      "('Error at the x points:', 1.7601367548840239)\n"
     ]
    },
    {
     "data": {
      "image/png": "[encoded data removed]",
      "text/plain": [
       "<matplotlib.figure.Figure at 0x109f7e690>"
      ]
     },
     "metadata": {},
     "output_type": "display_data"
    }
   ],
   "source": [
    "s = np.linspace(0,1,1025)\n",
    "us = np.sin(2*np.pi*s)\n",
    "ux = np.sin(2*np.pi*x)\n",
    "\n",
    "# Use this to plot high resolution versions\n",
    "M = interpolation_matrix(s,x,V)\n",
    "\n",
    "# Use this to compute errors at the mesh points\n",
    "Mx = interpolation_matrix(x,x,V)\n",
    "\n",
    "plt.plot(s, M.T.dot(ufem))\n",
    "plt.plot(s, us)\n",
    "plt.plot(x, ux,'ro')\n",
    "\n",
    "print(\"Error at the s points:\", (M.T.dot(ufem)-us).max())\n",
    "print(\"Error at the x points:\", (Mx.T.dot(ufem)-ux).max())"
   ]
  },
  {
   "cell_type": "code",
   "execution_count": null,
   "metadata": {
    "collapsed": false
   },
   "outputs": [],
   "source": []
  },
  {
   "cell_type": "code",
   "execution_count": null,
   "metadata": {
    "collapsed": false
   },
   "outputs": [],
   "source": []
  },
  {
   "cell_type": "code",
   "execution_count": null,
   "metadata": {
    "collapsed": true
   },
   "outputs": [],
   "source": []
  }
 ],
 "metadata": {
  "kernelspec": {
   "display_name": "Python 2",
   "language": "python",
   "name": "python2"
  },
  "language_info": {
   "codemirror_mode": {
    "name": "ipython",
    "version": 2
   },
   "file_extension": ".py",
   "mimetype": "text/x-python",
   "name": "python",
   "nbconvert_exporter": "python",
   "pygments_lexer": "ipython2",
   "version": "2.7.10"
  }
 },
 "nbformat": 4,
 "nbformat_minor": 0
}
