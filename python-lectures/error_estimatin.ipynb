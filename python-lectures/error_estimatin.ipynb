{
 "cells": [
  {
   "cell_type": "code",
   "execution_count": 1,
   "metadata": {
    "collapsed": true
   },
   "outputs": [],
   "source": [
    "%matplotlib inline\n",
    "import numpy as np\n",
    "import matplotlib.pyplot as plt\n",
    "import numpy.polynomial.polynomial as poly"
   ]
  },
  {
   "cell_type": "markdown",
   "metadata": {},
   "source": [
    "Constructing a function $f(x)$"
   ]
  },
  {
   "cell_type": "code",
   "execution_count": 2,
   "metadata": {
    "collapsed": false
   },
   "outputs": [
    {
     "name": "stdout",
     "output_type": "stream",
     "text": [
      "16\n"
     ]
    }
   ],
   "source": [
    "f = lambda x : x**2\n",
    "print f(4)"
   ]
  },
  {
   "cell_type": "markdown",
   "metadata": {},
   "source": [
    "Construct the dual $f^*$ of $f$. The dual of a function it is a \"something\" a point that given a function returnes a value."
   ]
  },
  {
   "cell_type": "code",
   "execution_count": 3,
   "metadata": {
    "collapsed": false
   },
   "outputs": [
    {
     "name": "stdout",
     "output_type": "stream",
     "text": [
      "16.0\n"
     ]
    }
   ],
   "source": [
    "x = lambda f: f(4.)\n",
    "g = lambda x: x**2\n",
    "print x(g)"
   ]
  },
  {
   "cell_type": "code",
   "execution_count": null,
   "metadata": {
    "collapsed": true
   },
   "outputs": [],
   "source": []
  },
  {
   "cell_type": "markdown",
   "metadata": {},
   "source": [
    "Construct a set of this special points, that given a function return a value, we call this set $\\hat N$ (the **set of nodal functions**, that are a basis for the dual space of $\\hat{\\mathcal{P}}^k([0,1])$). "
   ]
  },
  {
   "cell_type": "code",
   "execution_count": 4,
   "metadata": {
    "collapsed": true
   },
   "outputs": [],
   "source": [
    "def construct_dofs():\n",
    "    N = []\n",
    "    N.append(lambda f: f(0.))\n",
    "    N.append(lambda f: f(.5))\n",
    "    N.append(lambda f: f(1.))\n",
    "    return N"
   ]
  },
  {
   "cell_type": "code",
   "execution_count": 5,
   "metadata": {
    "collapsed": false
   },
   "outputs": [
    {
     "name": "stdout",
     "output_type": "stream",
     "text": [
      "[<function <lambda> at 0x105bc37d0>, <function <lambda> at 0x105bc36e0>, <function <lambda> at 0x105bc3b18>]\n",
      "0.0\n",
      "0.5\n"
     ]
    }
   ],
   "source": [
    "p = lambda p : p(0)\n",
    "f = lambda x : x\n",
    "\n",
    "Nk = construct_dofs()\n",
    "\n",
    "print Nk\n",
    "print Nk[0](f)\n",
    "print Nk[1](f)"
   ]
  },
  {
   "cell_type": "markdown",
   "metadata": {},
   "source": [
    "$\\mathcal{P}^k([0,1]) = \\textrm{span}\\{e_i\\}_{i=0}^k =: \\textrm{span} E$\n",
    "As we are free to choose our polinomials, we pick them in their simplest possible form, monomials:\n",
    "$$\n",
    "e_i = \\mathrm{pow}(x,i)\n",
    "$$"
   ]
  },
  {
   "cell_type": "code",
   "execution_count": 6,
   "metadata": {
    "collapsed": true
   },
   "outputs": [],
   "source": [
    "def construct_poly(deg):\n",
    "    E = []\n",
    "    for i in range(deg+1):\n",
    "        c = np.zeros((i+1,))\n",
    "        c[-1] = 1\n",
    "        E.append(poly.Polynomial(c))\n",
    "    return E"
   ]
  },
  {
   "cell_type": "code",
   "execution_count": 7,
   "metadata": {
    "collapsed": true
   },
   "outputs": [],
   "source": [
    "deg = 2"
   ]
  },
  {
   "cell_type": "code",
   "execution_count": 8,
   "metadata": {
    "collapsed": false
   },
   "outputs": [
    {
     "name": "stdout",
     "output_type": "stream",
     "text": [
      "[Polynomial([ 1.], [-1.,  1.], [-1.,  1.]), Polynomial([ 0.,  1.], [-1.,  1.], [-1.,  1.]), Polynomial([ 0.,  0.,  1.], [-1.,  1.], [-1.,  1.])]\n"
     ]
    }
   ],
   "source": [
    "Tk = np.array([0,1])\n",
    "Nk = construct_dofs()\n",
    "Pk = construct_poly(deg)\n",
    "print Pk"
   ]
  },
  {
   "cell_type": "markdown",
   "metadata": {},
   "source": [
    "We construct basis functions $v_i$ asking them to be those particular polynomials orthogonal to the degrees of freedom $v^j$. In a compact way this means:\n",
    "\n",
    "$$\n",
    "v^j\\, v_i = \\delta^j_i\n",
    "$$\n",
    "\n",
    "$v^j$ are a special kind of points that given a function the do return a value. We can write this value for the $k$-th polynomial:\n",
    "\n",
    "$v^j(e_k)$, and introduce the matrix $C_k^j$. This matrix clarifies the way canonical basis functions are related with the degrees of freedom:\n",
    "\n",
    "\n",
    "$$\n",
    "v^j\\, v_i = \\delta^j_i, \\quad v^j(e_k)\\, v^k_i = \\delta^j_i, \\quad C^j_k\\, v^k_i = \\delta^j_i\n",
    "$$\n",
    "\n",
    "Reading the last formula we get an easy way to construct the basis functions:\n",
    "\n",
    "$$\n",
    "v^k_i = (C^j_k)^{-1}\\delta^j_i\n",
    "$$\n",
    "\n",
    "In practice these $v^k_i$ are the cofficents for the polynomials that are going to become the basis for our space.  "
   ]
  },
  {
   "cell_type": "code",
   "execution_count": 9,
   "metadata": {
    "collapsed": true
   },
   "outputs": [],
   "source": [
    "def construct_cij(N,P):\n",
    "    C = np.zeros((0,len(N))) # Matrix for the change of variables\n",
    "    for dof in N:\n",
    "        row = np.array([])\n",
    "        for p in P:\n",
    "            row = np.hstack((row,[dof(p)]))\n",
    "        C = np.vstack((C,row))\n",
    "    return C"
   ]
  },
  {
   "cell_type": "code",
   "execution_count": 10,
   "metadata": {
    "collapsed": true
   },
   "outputs": [],
   "source": [
    "def construct_canonical_basis(C):\n",
    "    V = []\n",
    "    for k in range(C.shape[0]):\n",
    "        delta_ij = np.zeros((C.shape[0],))\n",
    "        delta_ij[k] = 1. # delta_ik\n",
    "        vk = np.linalg.solve(C, delta_ij)\n",
    "        V.append(poly.Polynomial(vk)) # Construct the basis using the right coefficients of the polynomials\n",
    "    return V"
   ]
  },
  {
   "cell_type": "code",
   "execution_count": 11,
   "metadata": {
    "collapsed": false
   },
   "outputs": [
    {
     "data": {
      "image/png": "[encoded data removed]",
      "text/plain": [
       "<matplotlib.figure.Figure at 0x105bbb810>"
      ]
     },
     "metadata": {},
     "output_type": "display_data"
    }
   ],
   "source": [
    "C = construct_cij(Nk,Pk)\n",
    "\n",
    "V = construct_canonical_basis(C)\n",
    "\n",
    "\n",
    "s = np.linspace(0,1,1025)\n",
    "for v in V:\n",
    "    plt.plot(s, v(s))\n",
    "plt.show()"
   ]
  },
  {
   "cell_type": "code",
   "execution_count": 14,
   "metadata": {
    "collapsed": true
   },
   "outputs": [],
   "source": [
    "from numpy.polynomial.legendre import leggauss\n",
    "\n",
    "def assemble_system(x,V,myf):\n",
    "    \n",
    "    h = 1./(len(x)-1)\n",
    "\n",
    "    degree = 2*len(V)-1\n",
    "    q,w = leggauss(degree) # Gauss between -1 and 1\n",
    "    q = (q+1)/2 # Go back to 0,1 \n",
    "    w = w/2\n",
    "    \n",
    "    Vq = np.zeros((len(V), len(q)))\n",
    "    Vpq = np.zeros((len(V), len(q)))\n",
    "\n",
    "    for i in range(len(V)):\n",
    "        Vq[i] = V[i](q)\n",
    "        Vpq[i] = V[i].deriv()(q)\n",
    "\n",
    "    n_dofs = (len(x)-1)*(len(V)-1)+1\n",
    "\n",
    "    A = np.zeros((n_dofs, n_dofs))\n",
    "    rhs = np.zeros((n_dofs,))\n",
    "\n",
    "    # Construct the local matrix only once:\n",
    "    local_A = np.einsum('jq, iq, q -> ij', Vpq/h, Vpq/h, w*h)\n",
    "\n",
    "    for i in range(len(x)-1):\n",
    "        start = i*(len(V)-1)\n",
    "        end = start+len(V)\n",
    "\n",
    "        index = range(start, end)\n",
    "        A[np.ix_(index, index)] += local_A\n",
    "\n",
    "        # The transformation of the quadrature points\n",
    "        xq = x[i]+h*q\n",
    "        local_rhs = np.einsum('iq, q, q -> i', Vq, w*h, myf(xq))\n",
    "\n",
    "        rhs[index] += local_rhs\n",
    "\n",
    "    # Fix the boundary conditions\n",
    "    A[0] = 0\n",
    "    A[0,0] = 1\n",
    "    rhs[0] = 0\n",
    "\n",
    "    A[-1] = 0\n",
    "    A[-1,-1] = 1\n",
    "    rhs[-1] = 0        \n",
    "\n",
    "    return A,rhs"
   ]
  },
  {
   "cell_type": "code",
   "execution_count": 42,
   "metadata": {
    "collapsed": true
   },
   "outputs": [],
   "source": [
    "def evaluate_error(x,V,u,exact_sol):\n",
    "    h = 1./(len(x)-1)\n",
    "\n",
    "    degree = 2*len(V)-1\n",
    "    q,w = leggauss(degree) # Gauss between -1 and 1\n",
    "    q = (q+1)/2 # Go back to 0,1 \n",
    "    w = w/2\n",
    "    \n",
    "    Vq = np.zeros((len(V), len(q)))\n",
    "    \n",
    "    for i in range(len(V)):\n",
    "        Vq[i] = V[i](q)\n",
    "        \n",
    "    error = 0.\n",
    "    \n",
    "    for i in range(len(x)-1):\n",
    "        start = i*(len(V)-1)\n",
    "        end = start+len(V)\n",
    "\n",
    "        index = range(start, end)\n",
    "        xq = x[i]+h*q\n",
    "\n",
    "        fem_sol_k = np.einsum('i,iq -> q', u[index],Vq)\n",
    "        exact_sol_k = exact_sol(xq)\n",
    "        \n",
    "        sq_error = (exact_sol_k-fem_sol_k)**2. \n",
    "        \n",
    "        error += np.einsum('i,i', sq_error,w)\n",
    "\n",
    "    return np.sqrt(error)"
   ]
  },
  {
   "cell_type": "code",
   "execution_count": null,
   "metadata": {
    "collapsed": false
   },
   "outputs": [],
   "source": []
  },
  {
   "cell_type": "code",
   "execution_count": null,
   "metadata": {
    "collapsed": false
   },
   "outputs": [],
   "source": []
  },
  {
   "cell_type": "code",
   "execution_count": 16,
   "metadata": {
    "collapsed": true
   },
   "outputs": [],
   "source": [
    "def interpolation_matrix(s, x, V):\n",
    "    \"\"\"\n",
    "    Given the evaluation points s in the mesh x, construct the interpolation matrix \n",
    "    according to the local basis V.\n",
    "    \"\"\"\n",
    "    n_dofs = (len(x)-1)*(len(V)-1)+1\n",
    "\n",
    "    M = np.zeros((n_dofs, len(s)))\n",
    "    for i in range(len(x)-1):\n",
    "        index = s>=x[i]\n",
    "        index *= s<=x[i+1]\n",
    "        \n",
    "        # Transform the points to [0,1]\n",
    "        xi = (s[index]-x[i])/(x[i+1]-x[i])\n",
    "        \n",
    "        for j in range(len(V)):\n",
    "            k = i*(len(v)-1)+j\n",
    "            M[k,index] = V[j](xi)\n",
    "    return M"
   ]
  },
  {
   "cell_type": "code",
   "execution_count": 15,
   "metadata": {
    "collapsed": false
   },
   "outputs": [],
   "source": [
    "n = 9\n",
    "\n",
    "x=np.linspace(0,1,n)\n",
    "\n",
    "myf = lambda x: 4*np.pi**2*np.sin(2*np.pi*x)\n",
    "\n",
    "A2, rhs = assemble_system(x,V,myf)\n",
    "\n",
    "# Solve the system\n",
    "ufem = np.linalg.solve(A2, rhs)"
   ]
  },
  {
   "cell_type": "code",
   "execution_count": 17,
   "metadata": {
    "collapsed": false
   },
   "outputs": [
    {
     "name": "stdout",
     "output_type": "stream",
     "text": [
      "('Error at the s points:', 0.0035860448479723139)\n",
      "('Error at the x points:', 3.284039706841213e-13)\n"
     ]
    },
    {
     "data": {
      "image/png": "[encoded data removed]",
      "text/plain": [
       "<matplotlib.figure.Figure at 0x105c88d90>"
      ]
     },
     "metadata": {},
     "output_type": "display_data"
    }
   ],
   "source": [
    "s = np.linspace(0,1,1025)\n",
    "us = np.sin(2*np.pi*s)\n",
    "ux = np.sin(2*np.pi*x)\n",
    "\n",
    "# Use this to plot high resolution versions\n",
    "M = interpolation_matrix(s,x,V)\n",
    "\n",
    "# Use this to compute errors at the mesh points\n",
    "Mx = interpolation_matrix(x,x,V)\n",
    "\n",
    "plt.plot(s, M.T.dot(ufem))\n",
    "plt.plot(s, us)\n",
    "plt.plot(x, ux,'ro')\n",
    "\n",
    "print(\"Error at the s points:\", (M.T.dot(ufem)-us).max())\n",
    "print(\"Error at the x points:\", (Mx.T.dot(ufem)-ux).max())"
   ]
  },
  {
   "cell_type": "code",
   "execution_count": 43,
   "metadata": {
    "collapsed": false
   },
   "outputs": [
    {
     "name": "stdout",
     "output_type": "stream",
     "text": [
      "0.0055206173826\n"
     ]
    }
   ],
   "source": [
    "exact_sol = lambda x: np.sin(2*np.pi*x)\n",
    "print evaluate_error(x,V,ufem,exact_sol)"
   ]
  },
  {
   "cell_type": "code",
   "execution_count": null,
   "metadata": {
    "collapsed": false
   },
   "outputs": [],
   "source": []
  },
  {
   "cell_type": "code",
   "execution_count": null,
   "metadata": {
    "collapsed": true
   },
   "outputs": [],
   "source": []
  }
 ],
 "metadata": {
  "kernelspec": {
   "display_name": "Python 2",
   "language": "python",
   "name": "python2"
  },
  "language_info": {
   "codemirror_mode": {
    "name": "ipython",
    "version": 2
   },
   "file_extension": ".py",
   "mimetype": "text/x-python",
   "name": "python",
   "nbconvert_exporter": "python",
   "pygments_lexer": "ipython2",
   "version": "2.7.10"
  }
 },
 "nbformat": 4,
 "nbformat_minor": 0
}
