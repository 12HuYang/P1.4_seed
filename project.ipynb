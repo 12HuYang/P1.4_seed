{
 "cells": [
  {
   "cell_type": "markdown",
   "metadata": {
    "ein.tags": [
     "worksheet-0"
    ],
    "slideshow": {
     "slide_type": "-"
    }
   },
   "source": [
    "## Final project\n",
    "\n",
    "Find the solution of \n",
    "\n",
    "$$\n",
    "-\\Delta \\mathbf u + \\mathbf u = \\mathbf f \n",
    "$$\n",
    "\n",
    "on a cube $[0,1]^3$. For the sake of simplicity you can consider just **one finite element** and homogeneous Neumann boundary conditions. \n",
    "\n",
    "Consider Lagrangian finite elements, with Chebyshev nodes, of high order (up to 30--40).\n",
    "\n",
    "The above problem can be rewritten in matrix form as\n",
    "\n",
    "$$\n",
    "(A+M)\\mathbf u = \\mathbf f\n",
    "$$\n",
    "\n",
    "where $A$ is the stiffness matrix, and $M$ is the mass matrix.\n",
    "\n"
   ]
  },
  {
   "cell_type": "markdown",
   "metadata": {},
   "source": [
    "1 - Assemble the matrices and solve the system with a **direct solver**. Plot (loglog) the $L_2$ norm of the error with respect to a known exact solution as function of the degree of the finite element. "
   ]
  },
  {
   "cell_type": "code",
   "execution_count": null,
   "metadata": {
    "collapsed": true
   },
   "outputs": [],
   "source": []
  },
  {
   "cell_type": "markdown",
   "metadata": {},
   "source": [
    "2 - Use an iterative solver with a chosen preconditioner. Compare and comment the computational burden between the direct and iterative case."
   ]
  },
  {
   "cell_type": "code",
   "execution_count": null,
   "metadata": {
    "collapsed": true
   },
   "outputs": [],
   "source": []
  },
  {
   "cell_type": "markdown",
   "metadata": {},
   "source": [
    "3 - **OPTIONAL** Using the iterative solver, implement a matrix-free approach where the computation of the matrices is substituted with a  function which returns the *matrix-vector* product. In doing so, you must take care of rewriting the assemble of the matrix as a sum of many *matrix-matrix* products exploiting all the possible tensor products. \n",
    "\n",
    "Compare and comment the compuational cost of 100 matrix-vector product when the matrix is assembled and when it is computed on-the-fly as a function of the degree of the finite element."
   ]
  },
  {
   "cell_type": "code",
   "execution_count": null,
   "metadata": {
    "collapsed": true
   },
   "outputs": [],
   "source": []
  }
 ],
 "metadata": {
  "anaconda-cloud": {},
  "kernelspec": {
   "display_name": "Python 2",
   "language": "python",
   "name": "python2"
  },
  "language_info": {
   "codemirror_mode": {
    "name": "ipython",
    "version": 2
   },
   "file_extension": ".py",
   "mimetype": "text/x-python",
   "name": "python",
   "nbconvert_exporter": "python",
   "pygments_lexer": "ipython2",
   "version": "2.7.12"
  },
  "name": "07_non_linear_equations.ipynb"
 },
 "nbformat": 4,
 "nbformat_minor": 1
}
